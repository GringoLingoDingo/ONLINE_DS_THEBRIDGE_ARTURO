{
 "cells": [
  {
   "cell_type": "markdown",
   "metadata": {
    "id": "BNCAebJANPxq"
   },
   "source": [
    "![TheBridge_logo_RGB_color.jpg](attachment:TheBridge_logo_RGB_color.jpg)"
   ]
  },
  {
   "cell_type": "markdown",
   "metadata": {
    "id": "A9eDZvZaNPxs"
   },
   "source": [
    "![imagen](./img/ejercicios.png)"
   ]
  },
  {
   "cell_type": "markdown",
   "metadata": {
    "id": "59zPhBxXNPxs"
   },
   "source": [
    "## PRACTICA OBLIGATORIA: PYTHON"
   ]
  },
  {
   "cell_type": "markdown",
   "metadata": {
    "id": "mv2kb1GMNPxs"
   },
   "source": [
    "* La práctica obligatoria de esta unidad consiste en dos ejercicios de programación libre a completar.   \n",
    "* Recuerda que debes subirla a tu repositorio personal antes de la sesión en vivo para que puntúe adecuadamente.  \n",
    "* Recuerda también que no es necesario que esté perfecta, sólo es necesario que se vea el esfuerzo.\n",
    "* Esta práctica se resolverá en la sesión en vivo correspondiente y la solución se publicará en el repo del curso."
   ]
  },
  {
   "cell_type": "markdown",
   "metadata": {
    "id": "Kl9JzST2NPxt"
   },
   "source": [
    "![ejercicio.png](./img/ejercicio.png)\n",
    "## PARTE I\n",
    "\n",
    "En este ejercicio debes simular un chatbot al que le haremos pedidos de pizzas.\n",
    "\n",
    "1. El chatbot tiene que saludar con un: \"Buenas tardes, bienvenido al servicio de pedido online, el precio de nuestra pizzas es de 8,95 para la familiar o de 9,90 para la mediana ¿Cuántas pizzas  familiares desea?\"\n",
    "2. El ususario tiene que introducir un número de pizzas en una variable llamada 'pizz_familiar'\n",
    "3. El chatbot debe responder: \"Estupendo, ¿cuántas pizzas medianas desea?\" y guardar el número de pizzas medianas en otra variable 'pizz_mediana'\n",
    "4. Además debe responder del chatbot: \"Estupendo, se están preparando 'pizz' pizzas familiares y 'pizz_mediana' pizzas medianas. Digame su dirección\"\n",
    "5. El ususario tiene que introducir una direccion en formato String en otra variable llamada 'direcc'\n",
    "6. El programa debe calcular el monto total\n",
    "7. Respuesta final del chatbot: \"Le mandaremos las '(número total de pizzas)' pizzas a la dirección 'direcc'. Serán <precio total a pagar en euros>. Muchas gracias por su pedido.\"\n",
    "         \n"
   ]
  },
  {
   "cell_type": "code",
   "execution_count": 2,
   "metadata": {
    "id": "qkKibyt-NPxt"
   },
   "outputs": [
    {
     "name": "stdout",
     "output_type": "stream",
     "text": [
      "Buenas tardes, bienvenido al servicio de pedido online, el precio de nuestras pizzas es de 8,95 para la familiar o de 9,90 para la mediana.\n",
      "¿Cuántas pizzas familiares desea?\n"
     ]
    },
    {
     "name": "stdin",
     "output_type": "stream",
     "text": [
      " 2\n"
     ]
    },
    {
     "name": "stdout",
     "output_type": "stream",
     "text": [
      "Estupendo, ¿cuántas pizzas medianas desea?\n"
     ]
    },
    {
     "name": "stdin",
     "output_type": "stream",
     "text": [
      " 3\n"
     ]
    },
    {
     "name": "stdout",
     "output_type": "stream",
     "text": [
      "Estupendo, se están preparando 2 pizzas familiares y 3 pizzas medianas. Dígame su dirección\n"
     ]
    },
    {
     "name": "stdin",
     "output_type": "stream",
     "text": [
      " Cathedral Road\n"
     ]
    },
    {
     "name": "stdout",
     "output_type": "stream",
     "text": [
      "Le mandaremos las 5 pizzas a la dirección Cathedral Road .Serán 47.6 €. Muchas gracias por su pedido.\n"
     ]
    }
   ],
   "source": [
    "#1.Chatbot says hello\n",
    "print(\"Buenas tardes, bienvenido al servicio de pedido online, el precio de nuestras pizzas es de 8,95 para la familiar o de 9,90 para la mediana.\") \n",
    "print(\"¿Cuántas pizzas familiares desea?\")\n",
    "\n",
    "#2.Input for number of pizzas small\n",
    "pizza_small = int(input())\n",
    "\n",
    "#3.Input for number of pizzas medium\n",
    "print(\"Estupendo, ¿cuántas pizzas medianas desea?\")\n",
    "pizza_medium = int(input())\n",
    "\n",
    "#4.Confrim the order and ask for the address\n",
    "print(\"Estupendo, se están preparando\", pizza_small, \"pizzas familiares y\", pizza_medium, \"pizzas medianas. Dígame su dirección\")\n",
    "\n",
    "#5.Address for delivery\n",
    "address = input()\n",
    "\n",
    "#6.Total Price\n",
    "total_pizzas_ordered = pizza_small + pizza_medium\n",
    "total_pizzas_price = (pizza_small * 8.95) + (pizza_medium * 9.90)\n",
    "\n",
    "#7.Final message from chatbot based on inputs of user\n",
    "print(\"Le mandaremos las\", total_pizzas_ordered, \"pizzas a la dirección\", address, \".Serán\", total_pizzas_price,\"€. Muchas gracias por su pedido.\")"
   ]
  },
  {
   "cell_type": "markdown",
   "metadata": {
    "id": "f0oqoGDGNPxt"
   },
   "source": [
    "![ejercicio.png](./img/ejercicio.png)\n",
    "## Parte II\n",
    "\n",
    "Crea un programa que realice las siguientes acciones:\n",
    "\n",
    "1. Solicite al usuario que introduzca 3 números enteros separados por comas (por ejemplo: 1,2,3).\n",
    "2. Convierta esa entrada en una lista de números enteros.\n",
    "3. Utilizando funciones built-in, determine el número máximo, el número mínimo y la suma total de los números introducidos.\n",
    "4. Determine la verdad o falsedad de la siguiente afirmación: \"El número máximo menos el número mínimo es igual a la suma total dividida por 5\".\n",
    "5. Muestre los resultados utilizando print."
   ]
  },
  {
   "cell_type": "code",
   "execution_count": 3,
   "metadata": {
    "id": "rAlpWiQ9NPxt"
   },
   "outputs": [
    {
     "name": "stdin",
     "output_type": "stream",
     "text": [
      "Input three numbers seperated by commas: 3,4,7\n"
     ]
    },
    {
     "name": "stdout",
     "output_type": "stream",
     "text": [
      "The Maximum number is: 7\n",
      "The Minimum number is 3\n",
      "The Total Value is 14\n",
      "Is the Maximum Number minus the Minimum number all over five equal to the Total Value? False\n"
     ]
    }
   ],
   "source": [
    "#Ask user for input\n",
    "Three_Numbers = input(\"Input three numbers seperated by commas:\")\n",
    "\n",
    "#Turn the numbers into whole numbers eg. integers\n",
    "Numbers_Whole = [int(Number.strip()) for Number in Three_Numbers.split(',')]\n",
    "\n",
    "#Calculate required values of introduced numbers\n",
    "Max_Number = max(Numbers_Whole)\n",
    "Min_Number = min(Numbers_Whole)\n",
    "Total_Value = sum(Numbers_Whole)\n",
    "\n",
    "#Test boolean of Max minus Min over five being equal to Total_Value.\n",
    "Boolean_Value = (Max_Number - Min_Number) == (Total_Value/ 5)\n",
    "\n",
    "#Show Results\n",
    "print(\"The Maximum number is:\", Max_Number)\n",
    "print(\"The Minimum number is\", Min_Number)\n",
    "print(\"The Total Value is\", Total_Value)\n",
    "print(\"Is the Maximum Number minus the Minimum number all over five equal to the Total Value?\", Boolean_Value)"
   ]
  },
  {
   "cell_type": "code",
   "execution_count": null,
   "metadata": {},
   "outputs": [],
   "source": []
  }
 ],
 "metadata": {
  "colab": {
   "provenance": []
  },
  "kernelspec": {
   "display_name": "Python 3 (ipykernel)",
   "language": "python",
   "name": "python3"
  },
  "language_info": {
   "codemirror_mode": {
    "name": "ipython",
    "version": 3
   },
   "file_extension": ".py",
   "mimetype": "text/x-python",
   "name": "python",
   "nbconvert_exporter": "python",
   "pygments_lexer": "ipython3",
   "version": "3.11.7"
  }
 },
 "nbformat": 4,
 "nbformat_minor": 4
}
