{
  "cells": [
    {
      "cell_type": "markdown",
      "metadata": {
        "id": "IZzH5mlTpMaA"
      },
      "source": [
        "![TheBridge_logo_RGB_color.jpg](attachment:TheBridge_logo_RGB_color.jpg)"
      ]
    },
    {
      "cell_type": "markdown",
      "metadata": {
        "id": "3rt-n-wZpMaB"
      },
      "source": [
        "![imagen](./img/ejercicios.png)"
      ]
    },
    {
      "cell_type": "markdown",
      "metadata": {
        "id": "F3JwkwDwpMaC"
      },
      "source": [
        "## EJERCICIOS PYTHON BASICO 3:\n",
        "## Operaciones matemáticas, comparación y booleanas"
      ]
    },
    {
      "cell_type": "markdown",
      "metadata": {
        "id": "QSOs0qIrpMaC"
      },
      "source": [
        "Completa los siguiente ejercicios, la solución completa a los mismos se publicarán en el repo del curso a lo largo del sprint. En algunos ejercicios se muestra la solución final, para que puedas comprobar que lo has hecho bien, pero lo importante es el código que generes. ¡Vaaamos, a ello...!"
      ]
    },
    {
      "cell_type": "markdown",
      "metadata": {
        "id": "u_dT9F7vpMaC"
      },
      "source": [
        "![ejercicio.png](./img/ejercicio.png)\n",
        "\n",
        "\n",
        "## Ejercicio 1\n",
        "Tenemos las siguientes variables:\n",
        "\n",
        "```Python\n",
        "A = 4\n",
        "B = \"Text\"\n",
        "C = 4.1\n",
        "```\n",
        "\n",
        "Comprueba:\n",
        "1. Si A y B son equivalentes\n",
        "2. Si A y C NO son equivalentes\n",
        "3. Si A es mayor que C\n",
        "4. Si C es menor o igual que A\n",
        "5. Si B NO es equivalente a C"
      ]
    },
    {
      "cell_type": "code",
      "execution_count": null,
      "metadata": {
        "id": "tTbXb5ZOpMaD",
        "outputId": "56895852-cdfe-4396-8dcd-c0bb662283df"
      },
      "outputs": [
        {
          "name": "stdout",
          "output_type": "stream",
          "text": [
            "False\n",
            "True\n",
            "False\n",
            "False\n",
            "True\n"
          ]
        }
      ],
      "source": []
    },
    {
      "cell_type": "markdown",
      "metadata": {
        "id": "okZm21PWpMaD"
      },
      "source": [
        "![ejercicio.png](./img/ejercicio.png)\n",
        "\n",
        "## Ejercicio 2\n",
        "Crea un programa donde se recojan dos inputs del usuario, y el output del programa sea si esos inputs son iguales o no"
      ]
    },
    {
      "cell_type": "code",
      "execution_count": null,
      "metadata": {
        "id": "B7Eu9Y_1pMaE"
      },
      "outputs": [],
      "source": []
    },
    {
      "cell_type": "markdown",
      "metadata": {
        "id": "wvK31uGhpMaE"
      },
      "source": [
        "![ejercicio.png](./img/ejercicio.png)\n",
        "\n",
        "## Ejercicio 3\n",
        "Mismo programa que en 2, pero en esta ocasión tienen que ser tres inputs y dos salidas. Una de las salidas que nos indique si todos son iguales, y la otra si al menos dos inputs sí que lo son"
      ]
    },
    {
      "cell_type": "code",
      "execution_count": null,
      "metadata": {
        "id": "zzx-V7XIpMaE",
        "outputId": "da060c25-2283-41f3-c9e7-9c5ed1f326f2"
      },
      "outputs": [
        {
          "name": "stdout",
          "output_type": "stream",
          "text": [
            "Todos son iguales: False\n",
            "Todos son iguales: False\n"
          ]
        }
      ],
      "source": []
    },
    {
      "cell_type": "markdown",
      "metadata": {
        "id": "MZ_LXN_CpMaE"
      },
      "source": [
        "![ejercicio.png](./img/ejercicio.png)\n",
        "\n",
        "## Ejercicio 4\n",
        "Razona sin ejecutar código el output que obtendremos de las siguientes sentencias\n",
        "1. True and True and False\n",
        "2. not ((True or False) and (True or False))\n",
        "3. (False or False or False or True) and False\n",
        "4. not False and True and not True"
      ]
    },
    {
      "cell_type": "markdown",
      "metadata": {
        "id": "eyKhMqyapMaE"
      },
      "source": []
    }
  ],
  "metadata": {
    "kernelspec": {
      "display_name": "Curso_Online_DATA",
      "language": "python",
      "name": "python3"
    },
    "language_info": {
      "codemirror_mode": {
        "name": "ipython",
        "version": 3
      },
      "file_extension": ".py",
      "mimetype": "text/x-python",
      "name": "python",
      "nbconvert_exporter": "python",
      "pygments_lexer": "ipython3",
      "version": "3.11.5"
    },
    "orig_nbformat": 4,
    "colab": {
      "provenance": []
    }
  },
  "nbformat": 4,
  "nbformat_minor": 0
}