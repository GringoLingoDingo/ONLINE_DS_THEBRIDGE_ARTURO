{
 "cells": [
  {
   "cell_type": "markdown",
   "metadata": {
    "id": "IZzH5mlTpMaA"
   },
   "source": [
    "![TheBridge_logo_RGB_color.jpg](attachment:TheBridge_logo_RGB_color.jpg)"
   ]
  },
  {
   "cell_type": "markdown",
   "metadata": {
    "id": "3rt-n-wZpMaB"
   },
   "source": [
    "![imagen](./img/ejercicios.png)"
   ]
  },
  {
   "cell_type": "markdown",
   "metadata": {
    "id": "F3JwkwDwpMaC"
   },
   "source": [
    "## EJERCICIOS PYTHON BASICO 3:\n",
    "## Operaciones matemáticas, comparación y booleanas"
   ]
  },
  {
   "cell_type": "markdown",
   "metadata": {
    "id": "QSOs0qIrpMaC"
   },
   "source": [
    "Completa los siguiente ejercicios, la solución completa a los mismos se publicarán en el repo del curso a lo largo del sprint. En algunos ejercicios se muestra la solución final, para que puedas comprobar que lo has hecho bien, pero lo importante es el código que generes. ¡Vaaamos, a ello...!"
   ]
  },
  {
   "cell_type": "markdown",
   "metadata": {
    "id": "u_dT9F7vpMaC"
   },
   "source": [
    "![ejercicio.png](./img/ejercicio.png)\n",
    "\n",
    "\n",
    "## Ejercicio 1\n",
    "Tenemos las siguientes variables:\n",
    "\n",
    "```Python\n",
    "A = 4\n",
    "B = \"Text\"\n",
    "C = 4.1\n",
    "```\n",
    "\n",
    "Comprueba:\n",
    "1. Si A y B son equivalentes\n",
    "2. Si A y C NO son equivalentes\n",
    "3. Si A es mayor que C\n",
    "4. Si C es menor o igual que A\n",
    "5. Si B NO es equivalente a C"
   ]
  },
  {
   "cell_type": "code",
   "execution_count": 3,
   "metadata": {
    "id": "tTbXb5ZOpMaD",
    "outputId": "56895852-cdfe-4396-8dcd-c0bb662283df"
   },
   "outputs": [
    {
     "name": "stdout",
     "output_type": "stream",
     "text": [
      "1. False\n",
      "2. True\n",
      "3. False\n",
      "4. False\n",
      "5. True\n"
     ]
    }
   ],
   "source": [
    "A = 4\n",
    "B = \"Text\"\n",
    "C = 4.1\n",
    "\n",
    "#https://study.com/learn/lesson/python-not-equal-conditional-operators.html#:~:text=The%20does%20not%20equal%20sign,the%20return%20value%20is%20false.\n",
    "\n",
    "print(\"1.\", A == B) \n",
    "#False (int is not a string)\n",
    "\n",
    "print(\"2.\", A != C )        \n",
    "#True (4 is not 4.1)\n",
    "\n",
    "print(\"3.\", A > C) \n",
    "# False (4 is not more than 4.1)\n",
    "\n",
    "print(\"4.\", C <= A)\n",
    "#False (4.1 is not less than 4)\n",
    "\n",
    "print(\"5.\", B != C)        \n",
    "#True (string is not a float)"
   ]
  },
  {
   "cell_type": "markdown",
   "metadata": {
    "id": "okZm21PWpMaD"
   },
   "source": [
    "![ejercicio.png](./img/ejercicio.png)\n",
    "\n",
    "## Ejercicio 2\n",
    "Crea un programa donde se recojan dos inputs del usuario, y el output del programa sea si esos inputs son iguales o no"
   ]
  },
  {
   "cell_type": "code",
   "execution_count": 4,
   "metadata": {
    "id": "B7Eu9Y_1pMaE"
   },
   "outputs": [
    {
     "name": "stdin",
     "output_type": "stream",
     "text": [
      " woof\n",
      " bark\n"
     ]
    },
    {
     "name": "stdout",
     "output_type": "stream",
     "text": [
      "False\n"
     ]
    }
   ],
   "source": [
    "Input_A = input()\n",
    "Input_B = input()\n",
    "\n",
    "Output = Input_A == Input_B\n",
    "print(Output)"
   ]
  },
  {
   "cell_type": "markdown",
   "metadata": {
    "id": "wvK31uGhpMaE"
   },
   "source": [
    "![ejercicio.png](./img/ejercicio.png)\n",
    "\n",
    "## Ejercicio 3\n",
    "Mismo programa que en 2, pero en esta ocasión tienen que ser tres inputs y dos salidas. Una de las salidas que nos indique si todos son iguales, y la otra si al menos dos inputs sí que lo son"
   ]
  },
  {
   "cell_type": "code",
   "execution_count": 6,
   "metadata": {
    "id": "zzx-V7XIpMaE",
    "outputId": "da060c25-2283-41f3-c9e7-9c5ed1f326f2"
   },
   "outputs": [
    {
     "name": "stdin",
     "output_type": "stream",
     "text": [
      " woof\n",
      " bark\n",
      " woof\n"
     ]
    },
    {
     "name": "stdout",
     "output_type": "stream",
     "text": [
      "False\n",
      "True\n"
     ]
    }
   ],
   "source": [
    "Input_A1 = input()\n",
    "Input_B2 = input()\n",
    "Input_C3 = input()\n",
    "\n",
    "#Using AND along with OR we can create 2 seperate results where one requires all inputs to be the same and another where only two must be identical.\n",
    "\n",
    "Output_A = Input_A1 == Input_B2 and Input_A1 == Input_C3\n",
    "Output_B = Input_A1 == Input_B2 or Input_A1 == Input_C3 or Input_B2 == Input_C3\n",
    "print(Output_A)\n",
    "print(Output_B)"
   ]
  },
  {
   "cell_type": "markdown",
   "metadata": {
    "id": "MZ_LXN_CpMaE"
   },
   "source": [
    "![ejercicio.png](./img/ejercicio.png)\n",
    "\n",
    "## Ejercicio 4\n",
    "Razona sin ejecutar código el output que obtendremos de las siguientes sentencias\n",
    "1. True and True and False\n",
    "2. not ((True or False) and (True or False))\n",
    "3. (False or False or False or True) and False\n",
    "4. not False and True and not True"
   ]
  },
  {
   "cell_type": "markdown",
   "metadata": {
    "id": "eyKhMqyapMaE"
   },
   "source": [
    "1. AND requires all statements to be true, so False is the output.\n",
    "2. NOT requires both statements to be invalid, so if one of the statements is True it invalidates the other, so False is the output.\n",
    "3. AND once again requires all values to be True, so this output is False. (#If the \"and False\" was \"and True\", the result would be uncertain?)\n",
    "4. All values need to be True in an AND statement, not True is False, so the output is False."
   ]
  }
 ],
 "metadata": {
  "colab": {
   "provenance": []
  },
  "kernelspec": {
   "display_name": "Python 3 (ipykernel)",
   "language": "python",
   "name": "python3"
  },
  "language_info": {
   "codemirror_mode": {
    "name": "ipython",
    "version": 3
   },
   "file_extension": ".py",
   "mimetype": "text/x-python",
   "name": "python",
   "nbconvert_exporter": "python",
   "pygments_lexer": "ipython3",
   "version": "3.11.7"
  }
 },
 "nbformat": 4,
 "nbformat_minor": 4
}
