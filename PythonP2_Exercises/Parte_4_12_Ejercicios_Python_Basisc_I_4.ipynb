{
 "cells": [
  {
   "cell_type": "markdown",
   "metadata": {
    "id": "WnyVBjCBpMtx"
   },
   "source": [
    "![TheBridge_logo_RGB_color.jpg](attachment:TheBridge_logo_RGB_color.jpg)"
   ]
  },
  {
   "cell_type": "markdown",
   "metadata": {
    "id": "KqB229H2pMty"
   },
   "source": [
    "![imagen](./img/ejercicios.png)"
   ]
  },
  {
   "cell_type": "markdown",
   "metadata": {
    "id": "4UPYFeFHpMty"
   },
   "source": [
    "## EJERCICIOS PYTHON BASICO 4:\n",
    "## Funciones, métodos, listas"
   ]
  },
  {
   "cell_type": "markdown",
   "metadata": {
    "id": "ZWrcrtZ6pMtz"
   },
   "source": [
    "Completa los siguiente ejercicios, la solución completa a los mismos se publicarán en el repo del curso a lo largo del sprint. En algunos ejercicios se muestra la solución final, para que puedas comprobar que lo has hecho bien, pero lo importante es el código que generes. ¡Vaaamos, a ello...!"
   ]
  },
  {
   "cell_type": "markdown",
   "metadata": {
    "id": "DCIST72ApMtz"
   },
   "source": [
    "![ejercicio.png](./img/ejercicio.png)\n",
    "\n",
    "## Ejercicio 1\n",
    "Para este ejercicio vamos a poner en práctica [las funciones built in](https://docs.python.org/3/library/functions.html).\n",
    "\n",
    "1. Calcula el máximo de la lista: [4, 6, 8, -1]\n",
    "2. Suma todos los elementos de la lista anterior\n",
    "3. Redondea este float a 3 dígitos decimales: 63.451256965\n",
    "4. Valor absoluto de: -74"
   ]
  },
  {
   "cell_type": "code",
   "execution_count": 6,
   "metadata": {
    "id": "jaTF8DSRpMtz"
   },
   "outputs": [
    {
     "name": "stdout",
     "output_type": "stream",
     "text": [
      "8\n",
      "17\n",
      "63.451\n",
      "74\n"
     ]
    }
   ],
   "source": [
    "List = [4, 6, 8, -1]\n",
    "print(max(List))\n",
    "#max gives the highest value in the list\n",
    "\n",
    "print(sum(List))\n",
    "#sum gives the value of all the elements in the list added together\n",
    "\n",
    "print(round(63.451256965, 3))\n",
    "#round gives the value of an element rounded to a specified decimal place\n",
    "\n",
    "print(abs(-74))\n",
    "#abs gives the absolute value of an element as a positive integer\n",
    "    \n",
    "    \n"
   ]
  },
  {
   "cell_type": "markdown",
   "metadata": {
    "id": "390nPLOipMt0"
   },
   "source": [
    "![ejercicio.png](./img/ejercicio.png)\n",
    "\n",
    "## Ejercicio 2\n",
    "Para el siguiente string se pide imprimir por pantalla los siguientes casos\n",
    "\n",
    "    \"En un lugar de la Mancha, de cuyo nombre no quiero acordarme.\"\n",
    "\n",
    "1. Pásalo todo a mayúsculas\n",
    "2. Pásalo todo a minúsculas\n",
    "3. Solo la primera letra de cada palabra en mayúscula, el resto en minúscula\n",
    "4. Crea una lista dividiéndolo por sus espacios\n",
    "5. Sustituye las comas `,` por puntos y comas `;`\n",
    "6. Elimina las `a` minúsculas"
   ]
  },
  {
   "cell_type": "code",
   "execution_count": 9,
   "metadata": {
    "id": "MPN9JcTMpMt0",
    "outputId": "d95d2071-be40-4633-8518-259ce77aaaa0"
   },
   "outputs": [
    {
     "name": "stdout",
     "output_type": "stream",
     "text": [
      "EN UN LUGAR DE LA MANCHA, DE CUYO NOMBRE NO QUIERO ACORDARME.\n",
      "en un lugar de la mancha, de cuyo nombre no quiero acordarme.\n",
      "En Un Lugar De La Mancha, De Cuyo Nombre No Quiero Acordarme.\n",
      "['En', 'un', 'lugar', 'de', 'la', 'Mancha,', 'de', 'cuyo', 'nombre', 'no', 'quiero', 'acordarme.']\n",
      "En un lugar de la Mancha; de cuyo nombre no quiero acordarme.\n",
      "En un lugr de l Mnch, de cuyo nombre no quiero cordrme.\n"
     ]
    }
   ],
   "source": [
    "text = \"En un lugar de la Mancha, de cuyo nombre no quiero acordarme.\"\n",
    "\n",
    "#1. Capitalised letters\n",
    "print(text.upper())\n",
    "\n",
    "\n",
    "#2. Uncapitalised letters\n",
    "print(text.lower())\n",
    "\n",
    "#3. Capitalise the first letter only\n",
    "print(text.title())\n",
    "\n",
    "#4. Each word split into its own value\n",
    "print(text.split())\n",
    "\n",
    "#5. Swap around the commas with semicolons\n",
    "print(text.replace(',', ';'))\n",
    "\n",
    "#6. Delete all the uncapitalised 'a's with an empty space\n",
    "print(text.replace('a', ''))"
   ]
  },
  {
   "cell_type": "markdown",
   "metadata": {
    "id": "FBrMF7DOpMt1"
   },
   "source": [
    "![ejercicio.png](./img/ejercicio.png)\n",
    "\n",
    "## Ejercicio 3\n",
    "1. Crea una lista con 3 elementos numéricos\n",
    "2. Añade un cuarto elemento\n",
    "3. Calcula la suma de todos\n",
    "4. Elimina el segundo elemento de la lista\n",
    "5. Añade otro elemento en la posicion 3 de la lista\n",
    "6. Crea otra lista con 4 elementos y concaténala a la que ya tenías.\n",
    "7. Ordena la lista de menor a mayor.\n",
    "8. BONUS: Ordena la lista de mayor a menor.  \n",
    "(*PISTA: Para hacer 8, tendrás que buscar en la información del método...*)  \n",
    "  \n",
    "  \n",
    "NOTA: Pinta por pantalla el resultado de cada paso."
   ]
  },
  {
   "cell_type": "code",
   "execution_count": 12,
   "metadata": {
    "id": "wgz_T1h2pMt1",
    "outputId": "2735a605-40f5-40f4-9f8b-02977d1f7b39"
   },
   "outputs": [
    {
     "name": "stdout",
     "output_type": "stream",
     "text": [
      "1.First List [10, 20, 30]\n",
      "2.Add 35: [10, 20, 30, 35]\n",
      "3.Total sum of Lists elements: 95\n",
      "4.Delete the second element: [10, 30, 35]\n",
      "5.Insert 50 at position 3 of the index: [10, 30, 35, 50]\n",
      "6.Combine List with a New List [60,70,80,90]: [10, 30, 35, 50]\n",
      "7.Sort in ascending order: [10, 30, 35, 50, 60, 70, 80, 90]\n"
     ]
    }
   ],
   "source": [
    "#1.Make a list with 3 elements\n",
    "List = [10, 20, 30]\n",
    "print(\"1.First List\", List)\n",
    "\n",
    "#2.Add new element\n",
    "List.append(35)\n",
    "print(\"2.Add 35:\", List)\n",
    "\n",
    "#3.Calculate total sum of elements\n",
    "Total = sum(List)\n",
    "print(\"3.Total sum of Lists elements:\", Total) \n",
    "\n",
    "#4.Delete second element index 1 spot\n",
    "Delete_2nd_Element = List.pop(1)\n",
    "print(\"4.Delete the second element:\", List)\n",
    "\n",
    "#5.Add another element in space 3 of the list\n",
    "List.insert(3, 50)\n",
    "print(\"5.Insert 50 at position 3 of the index:\", List)\n",
    "\n",
    "#6.Create a new list and combine it with the first list\n",
    "New_List = [60, 70, 80, 90]\n",
    "List_Extended = List + New_List\n",
    "print(\"6.Combine List with a New List [60,70,80,90]:\", List) \n",
    "\n",
    "# 7.Sort them from lowest to highest values\n",
    "List_Extended.sort()\n",
    "print(\"7.Sort in ascending order:\", List_Extended)"
   ]
  },
  {
   "cell_type": "code",
   "execution_count": null,
   "metadata": {},
   "outputs": [],
   "source": []
  }
 ],
 "metadata": {
  "colab": {
   "provenance": []
  },
  "kernelspec": {
   "display_name": "Python 3 (ipykernel)",
   "language": "python",
   "name": "python3"
  },
  "language_info": {
   "codemirror_mode": {
    "name": "ipython",
    "version": 3
   },
   "file_extension": ".py",
   "mimetype": "text/x-python",
   "name": "python",
   "nbconvert_exporter": "python",
   "pygments_lexer": "ipython3",
   "version": "3.11.7"
  }
 },
 "nbformat": 4,
 "nbformat_minor": 4
}
