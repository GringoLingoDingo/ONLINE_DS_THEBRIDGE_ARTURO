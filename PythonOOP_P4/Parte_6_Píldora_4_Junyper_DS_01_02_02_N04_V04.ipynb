{
 "cells": [
  {
   "cell_type": "markdown",
   "metadata": {
    "id": "UqQ6ozmseahf"
   },
   "source": [
    "![TheBridge_Python_v0.png](attachment:TheBridge_Python_v0.png)"
   ]
  },
  {
   "cell_type": "markdown",
   "metadata": {
    "id": "kjxu1T_5eahf"
   },
   "source": [
    "##  Constructores\n"
   ]
  },
  {
   "cell_type": "markdown",
   "metadata": {
    "id": "cjm3IatGeahg"
   },
   "source": [
    "### Contenidos\n"
   ]
  },
  {
   "cell_type": "markdown",
   "metadata": {
    "id": "VYluMls8eahg"
   },
   "source": [
    "* [Introducción  ](#Introducción--)\n",
    "\n"
   ]
  },
  {
   "cell_type": "markdown",
   "metadata": {
    "id": "MF_EKLBSeahg"
   },
   "source": [
    "### Introducción  \n",
    "[al indice](#Contenidos)  \n",
    "\n",
    "Veíamos en la sesión anterior que cuando creamos un objeto de la clase *Coche* sin más, este objeto adquiere los atributos por defecto de la clase. Si queremos definirlo bien \"de primeras\" (en su instanciación o creación) para diferenciarlo de otros coches, necesitamos algo más.  \n",
    "\n",
    "Ese algo más que me permite la definición inicial, es lo que se denomina constructor de la clase.\n",
    "\n",
    "Será un método, muy similar a una función, al que daremos unos argumentos de entrada que sustituirán a los valores por defecto y que nos permitirán diferenciar esa instancia de otras instancias de la misma clase.\n",
    "\n",
    "**¿Cómo se define un constructor?** Mediante la función `__init__`, dentro de la clase."
   ]
  },
  {
   "cell_type": "code",
   "execution_count": 2,
   "metadata": {
    "id": "Z0_HMZ9jeahh"
   },
   "outputs": [],
   "source": [
    "class Car:\n",
    "    doors = 4\n",
    "    wheels = 4\n",
    "\n",
    "    def __init__(self, brand_car):\n",
    "        self.brand = brand_car"
   ]
  },
  {
   "cell_type": "code",
   "execution_count": 4,
   "metadata": {},
   "outputs": [
    {
     "name": "stdout",
     "output_type": "stream",
     "text": [
      "Tesla\n"
     ]
    }
   ],
   "source": [
    "tesla = Car(\"Tesla\")\n",
    "print(tesla.brand)"
   ]
  },
  {
   "cell_type": "markdown",
   "metadata": {
    "id": "kBXYOFCseahh"
   },
   "source": [
    "En la declaración del constructor hemos metido la palabra `self`. **Lo tendremos que poner siempre**. Hace referencia a la propia instancia de coche, es decir, a cuando creemos coches nuevos.\n",
    "\n",
    "En este caso estamos diferenciando los atributos comunes de la clase *Coche*, de los atributos particulares de los coches, como por ejemplo, la marca. Por eso la marca va junto con `self`, porque no hace referencia a la clase genércia de coche, sino a cada coche que creemos."
   ]
  },
  {
   "cell_type": "code",
   "execution_count": 7,
   "metadata": {
    "id": "dhLto9KAeahh"
   },
   "outputs": [
    {
     "name": "stdout",
     "output_type": "stream",
     "text": [
      "Mercedes\n",
      "Renault\n",
      "4\n",
      "4\n"
     ]
    }
   ],
   "source": [
    "mercedes = Car(\"Mercedes\")\n",
    "renault = Car(\"Renault\")\n",
    "print(mercedes.brand)\n",
    "print(renault.brand)\n",
    "print(mercedes.doors)\n",
    "print(renault.doors)"
   ]
  },
  {
   "cell_type": "markdown",
   "metadata": {
    "id": "U8gQaiJ-eahi"
   },
   "source": [
    "Ahora ya podemos diferenciar los coches por su marca. Para acceder al atributo de la marca, lo hacemos igual que con los anteriores."
   ]
  },
  {
   "cell_type": "code",
   "execution_count": 9,
   "metadata": {
    "id": "aZC8bmhUeahi"
   },
   "outputs": [],
   "source": [
    "class Car:\n",
    "    doors = 4\n",
    "    wheels = 4\n",
    "\n",
    "    def __init__(self, brand_car, num_doors):\n",
    "        self.brand = brand_car\n",
    "        self.doors = num_doors"
   ]
  },
  {
   "cell_type": "markdown",
   "metadata": {
    "id": "TTr_y4EBeahi"
   },
   "source": [
    "Ya podemos solucionar el tema de que no todos los coches tienen 4 puertas"
   ]
  },
  {
   "cell_type": "code",
   "execution_count": 15,
   "metadata": {
    "id": "5voLwJ-7eahi"
   },
   "outputs": [
    {
     "name": "stdout",
     "output_type": "stream",
     "text": [
      "Mercedes500\n",
      "3\n"
     ]
    }
   ],
   "source": [
    "tesla = Car(\"Tesla\", 6)\n",
    "mercedes_500 = Car(\"Mercedes500\", 3)\n",
    "print(mercedes_500.brand)\n",
    "print(mercedes_500.doors)"
   ]
  },
  {
   "cell_type": "code",
   "execution_count": 16,
   "metadata": {
    "id": "LnACsxB8eahi"
   },
   "outputs": [],
   "source": [
    "class Car:\n",
    "    doors = 4\n",
    "    wheels = 4\n",
    "\n",
    "    def __init__(self, brand_car, num_doors = 4, num_wheels = 4):\n",
    "        self.brand = brand_car\n",
    "        self.doors = num_doors\n",
    "        self.wheels = num_wheels"
   ]
  },
  {
   "cell_type": "code",
   "execution_count": 17,
   "metadata": {},
   "outputs": [],
   "source": [
    "tesla_4 = Car(\"Tesla\")\n",
    "tesla_6r = Car(\"Tesla6W\", num_wheels = 6)"
   ]
  },
  {
   "cell_type": "code",
   "execution_count": 18,
   "metadata": {},
   "outputs": [
    {
     "name": "stdout",
     "output_type": "stream",
     "text": [
      "4 4\n",
      "4 6\n"
     ]
    }
   ],
   "source": [
    "print(tesla_4.doors, tesla_6r.doors)\n",
    "print(tesla_4.wheels, tesla_6r.wheels)"
   ]
  },
  {
   "cell_type": "code",
   "execution_count": null,
   "metadata": {},
   "outputs": [],
   "source": []
  }
 ],
 "metadata": {
  "colab": {
   "provenance": []
  },
  "kernelspec": {
   "display_name": "Python 3 (ipykernel)",
   "language": "python",
   "name": "python3"
  },
  "language_info": {
   "codemirror_mode": {
    "name": "ipython",
    "version": 3
   },
   "file_extension": ".py",
   "mimetype": "text/x-python",
   "name": "python",
   "nbconvert_exporter": "python",
   "pygments_lexer": "ipython3",
   "version": "3.11.7"
  }
 },
 "nbformat": 4,
 "nbformat_minor": 4
}
