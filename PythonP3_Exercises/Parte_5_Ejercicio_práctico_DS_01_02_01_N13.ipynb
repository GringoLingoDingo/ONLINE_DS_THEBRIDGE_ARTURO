{
 "cells": [
  {
   "cell_type": "markdown",
   "metadata": {
    "id": "9l3HMgm6RWxF"
   },
   "source": [
    "![TheBridge_logo_RGB_color.jpg](attachment:TheBridge_logo_RGB_color.jpg)"
   ]
  },
  {
   "cell_type": "markdown",
   "metadata": {
    "id": "RGg9iWpoRWxG"
   },
   "source": [
    "![ejercicios.png](attachment:ejercicios.png)"
   ]
  },
  {
   "cell_type": "markdown",
   "metadata": {
    "id": "AyOlWS2nRWxH"
   },
   "source": [
    "## PRACTICA OBLIGATORIA: COLECCIONES Y FUNCIONES"
   ]
  },
  {
   "cell_type": "markdown",
   "metadata": {
    "id": "6UOgb0KVRWxH"
   },
   "source": [
    "* La práctica obligatoria de esta unidad consiste varios ejercicios de programación libre a completar sobre Colecciones y Funciones. Descarga este notebook en tu ordenador y trabaja en local.  \n",
    "* Recuerda que debes subirla a tu repositorio personal antes de la sesión en vivo para que puntúe adecuadamente y puedas participar en dicha sesión.  \n",
    "* Recuerda también que no es necesario que esté perfecta, sólo es necesario que se vea el esfuerzo.\n",
    "* Esta práctica se resolverá en la sesión en vivo correspondiente y la solución se publicará en el repo del curso."
   ]
  },
  {
   "cell_type": "markdown",
   "metadata": {
    "id": "j3yu-tEjRWxH"
   },
   "source": [
    "### Contenidos"
   ]
  },
  {
   "cell_type": "markdown",
   "metadata": {
    "id": "kO-fLH39RWxH"
   },
   "source": [
    "## Ejercicio 1\n",
    "Eleva todos los elementos de la lista al cuadrado\n",
    "> ```ejer_2 = [1,2,3,4,5]```"
   ]
  },
  {
   "cell_type": "code",
   "execution_count": 5,
   "metadata": {
    "id": "ks5l3yi7RWxH"
   },
   "outputs": [
    {
     "name": "stdout",
     "output_type": "stream",
     "text": [
      "1\n",
      "4\n",
      "9\n",
      "16\n",
      "25\n"
     ]
    }
   ],
   "source": [
    "ejer_2 = [1, 2, 3, 4, 5]\n",
    "\n",
    "#multiply the variable by itself to reach its value to the power of itself.\n",
    "\n",
    "for i in range(len(ejer_2)): #or range(1-6)\n",
    "    ejer_2[i] = ejer_2[i] * ejer_2[i]\n",
    "    print(ejer_2[i])"
   ]
  },
  {
   "cell_type": "markdown",
   "metadata": {
    "id": "kI_Xr5oFRWxI"
   },
   "source": [
    "## Ejercicio 2\n",
    "Haz un programa que detecte todos los duplicados de un elemento en una lista:\n",
    "* Utiliza una variable duplicado para asignarle el valor del elemento del que queremos encontrar todos sus duplicados.\n",
    "* El programa debe devolver todos los índices de los elementos duplicados.\n",
    "* Aplícalo para encontrar los duplicados de \"un\", \"es\" y \"binario\" de:  \n",
    "\n",
    ">```ejer_3 = [\"Un\", \"árbol\", \"binario\", \"es\", \"una\", \"estructura\", \"de\", \"un\", \"tipo\", \"particular\", \"a\", \"veces\", \"no\", \"es\", \"ni\", \"binario\"]```\n"
   ]
  },
  {
   "cell_type": "code",
   "execution_count": 3,
   "metadata": {
    "id": "cLY9WB7YRWxI"
   },
   "outputs": [
    {
     "name": "stdout",
     "output_type": "stream",
     "text": [
      "['un', 'árbol', 'binario', 'es', 'una', 'estructura', 'de', 'un', 'tipo', 'particular', 'a', 'veces', 'no', 'es', 'ni', 'binario']\n",
      "un [0, 7]\n",
      "es [3, 13]\n",
      "binario [2, 15]\n"
     ]
    }
   ],
   "source": [
    "ejer_3 = [\"Un\", \"árbol\", \"binario\", \"es\", \"una\", \"estructura\", \n",
    "\"de\", \"un\", \"tipo\", \"particular\", \"a\", \"veces\", \"no\", \"es\", \"ni\", \"binario\"]\n",
    "\n",
    "#To track the 2 'un' in this section, we have to make both of them identical for the system,\n",
    "#I was thinking about using 'un' OR 'Un' but I was unsure how to do it.\n",
    "def make_lowercase():\n",
    "    for letters in range(len(ejer_3)):\n",
    "       ejer_3[letters] = ejer_3[letters].lower()\n",
    "        \n",
    "make_lowercase()\n",
    "print(ejer_3)\n",
    "\n",
    "#We now want to make a dictionary containing the indexes of the repeat values from the list.\n",
    "#We also want a list of the values we want to compare to the list to find repeats.\n",
    "\n",
    "Index_Location = {} #Dictionary\n",
    "Repeats = [\"un\", \"es\", \"binario\"] #List for comparing\n",
    "\n",
    "#Now I want to create a function that checks both lists against each other, one with each Index against the repeats.\n",
    "def find_duplicates(Index, Repeated_Word):\n",
    "    return [ej_3_word for ej_3_word, word in enumerate(Index) if word == Repeated_Word]\n",
    "#This should give me the string \"ej_3_word\" as well as its index number \"enumerate(Index)\" if it is identical to a value in the Repeats list.\n",
    "\n",
    "#Make the dictionary contain its own list based off the results of the function above. it will have the word as the first part-\n",
    "#.. and the index where it found a match in the ejer_3 list.\n",
    "for index in Repeats:\n",
    "    function_result = find_duplicates(ejer_3, index)\n",
    "    Index_Location[index] = function_result\n",
    "\n",
    "for word, number in Index_Location.items():\n",
    "    print(word, number)"
   ]
  },
  {
   "cell_type": "markdown",
   "metadata": {
    "id": "3WrBd5QaRWxI"
   },
   "source": [
    "## Ejercicio 3\n",
    "1. ¿Cuántas veces se repite el 3 en la siguiente tupla?\n",
    "2. Crea una tupla nueva con los elementos desde la posicion 5 a la 10.\n",
    "3. ¿Cuántos elementos tiene la tupla `ejer_3`?\n",
    "> ```ejer_9 = (3, 20, 3, 47, 19, 3, 29, 45, 67, 78, 90, 3, 3, 5, 2, 4, 7, 9, 4, 2, 4, 3, 3, 4, 6, 7)```"
   ]
  },
  {
   "cell_type": "code",
   "execution_count": 24,
   "metadata": {
    "id": "bkv_R5LYRWxI"
   },
   "outputs": [
    {
     "name": "stdout",
     "output_type": "stream",
     "text": [
      "How many times does 3 repeat itself in the following tuple?: 7\n",
      "New list: (3, 29, 45, 67, 78, 90)\n",
      "How many elements in tuple from ejer_3?: 13\n"
     ]
    }
   ],
   "source": [
    "#1. How many times does 3 repeat itself in the following tuple?\n",
    "ejer_9 = (3, 20, 3, 47, 19, 3, 29, 45, 67, 78, 90, 3, 3, 5, 2, 4, 7, 9, 4, 2, 4, 3, 3, 4, 6, 7)\n",
    "\n",
    "target_number = 3\n",
    "total_N = 0\n",
    "\n",
    "def repeating_3():\n",
    "    global total_N  #The variable should be global so i can edit it outside of the function\n",
    "    for numbers in ejer_9:\n",
    "        if numbers == target_number:\n",
    "            total_N = total_N + 1\n",
    "\n",
    "repeating_3()\n",
    "print(\"How many times does 3 repeat itself in the following tuple?:\",total_N)\n",
    "#Despues de hacer esta tarea descubri sobre el .count(N) funcion.....\n",
    "#print(ejer_9.count(3))\n",
    "\n",
    "\n",
    "\n",
    "#2.Create a new tuple with elements from position 5 to 10\n",
    "New_tuple = (ejer_9[5:11]) #desde? podria ser [4-11] pero no se si posicion se refiere a indice o no\n",
    "print(\"New list:\",New_tuple)\n",
    "\n",
    "#3.How many elements in tuple ejer_3?\n",
    "#We will create a global variable and add 1 for each loop made of the set of unique elements from ejer_3\n",
    "total_E = 0\n",
    "Ele_Ejer3 = set(ejer_3)\n",
    "#print(Ele_Ejer3)\n",
    "for element in Ele_Ejer3:\n",
    "    global total_E\n",
    "    total_E = total_E + 1\n",
    "\n",
    "print(\"How many elements in tuple from ejer_3?:\",total_E)\n",
    "     \n"
   ]
  },
  {
   "cell_type": "markdown",
   "metadata": {
    "id": "6g8Y54AeRWxI"
   },
   "source": [
    "## Ejercicio 4\n",
    "Comprueba si el numero 60 esta en la tupla del ejercicio 3"
   ]
  },
  {
   "cell_type": "code",
   "execution_count": 25,
   "metadata": {
    "id": "F8VTEZonRWxI"
   },
   "outputs": [
    {
     "name": "stdout",
     "output_type": "stream",
     "text": [
      "Is there the number 60 in this tuple? False\n"
     ]
    }
   ],
   "source": [
    "ejer_9 = (3, 20, 3, 47, 19, 3, 29, 45, 67, 78, 90, 3, 3, 5, 2, 4, 7, 9, 4, 2, 4, 3, 3, 4, 6, 7)\n",
    "\n",
    "Number_60 = False\n",
    "for numero in ejer_9:\n",
    "    if numero == 60:\n",
    "        Number_60 = True\n",
    "        break\n",
    "\n",
    "print(\"Is there the number 60 in this tuple?\", Number_60)"
   ]
  },
  {
   "cell_type": "markdown",
   "metadata": {
    "id": "y0fg-ZA6RWxI"
   },
   "source": [
    "## Ejercicio 5\n",
    "1. Convierte la tupla del ejercicio 3 en una lista\n",
    "2. Convierte la tupla del ejercicio 3 en un set\n",
    "3. Convierte la tupla del ejercicio 3 en un diccionario. Usa también los indices"
   ]
  },
  {
   "cell_type": "code",
   "execution_count": 28,
   "metadata": {
    "id": "_O5hXr01RWxI"
   },
   "outputs": [
    {
     "name": "stdout",
     "output_type": "stream",
     "text": [
      "['un', 'árbol', 'binario', 'es', 'una', 'estructura', 'de', 'un', 'tipo', 'particular', 'a', 'veces', 'no', 'es', 'ni', 'binario']\n",
      "{'particular', 'ni', 'binario', 'árbol', 'de', 'tipo', 'un', 'es', 'a', 'estructura', 'una', 'veces', 'no'}\n",
      "{0: 3, 1: 20, 2: 3, 3: 47, 4: 19, 5: 3, 6: 29, 7: 45, 8: 67, 9: 78, 10: 90, 11: 3, 12: 3, 13: 5, 14: 2, 15: 4, 16: 7, 17: 9, 18: 4, 19: 2, 20: 4, 21: 3, 22: 3, 23: 4, 24: 6, 25: 7}\n"
     ]
    }
   ],
   "source": [
    "List_Ejer3 = list(ejer_3)\n",
    "Set_Ejer3 = set(ejer_3)\n",
    "Dict_Ejer3 = {index: value for index, value in enumerate(ejer_9)}\n",
    "\n",
    "print(List_Ejer3)\n",
    "print(Set_Ejer3)\n",
    "print(Dict_Ejer3)"
   ]
  },
  {
   "cell_type": "markdown",
   "metadata": {
    "id": "eOdWWbxvRWxJ"
   },
   "source": [
    "## Ejercicio 6\n",
    "Multiplica todos los valores del diccionario\n",
    "> ```ejer_6 = {1: 11, 2: 22, 3: 33, 4: 44, 5: 55}```"
   ]
  },
  {
   "cell_type": "code",
   "execution_count": 30,
   "metadata": {
    "id": "KcuByovKRWxJ"
   },
   "outputs": [
    {
     "name": "stdout",
     "output_type": "stream",
     "text": [
      "19326120\n"
     ]
    }
   ],
   "source": [
    "ejer_6 = {1: 11, 2: 22, 3: 33, 4: 44, 5: 55}\n",
    "\n",
    "v = 1\n",
    "for values in ejer_6.values():\n",
    "    v = v * values\n",
    "\n",
    "print(v)\n",
    "\n",
    "#habia usado \"starter_value\" en vez de \"v\" pero claro tambien lo imprimo al final, asi que no solamente es starter..\n",
    "    "
   ]
  },
  {
   "cell_type": "markdown",
   "metadata": {
    "id": "W7TUSaKRRWxJ"
   },
   "source": [
    "## Ejercicio 7\n",
    "\n",
    "1. Crea un diccionario que describa un libro, con los siguientes campos o claves: \"titulo\",\"autor\",\"idioma original\",\"año de publicación\".\n",
    "2. Crea un a lista, llamada librería.\n",
    "3. Añade cuatro libros a tu elección a la librería."
   ]
  },
  {
   "cell_type": "code",
   "execution_count": 42,
   "metadata": {
    "id": "d-IMRvxRRWxJ",
    "vscode": {
     "languageId": "plaintext"
    }
   },
   "outputs": [
    {
     "name": "stdout",
     "output_type": "stream",
     "text": [
      "{'Title': 'The Hobbit', 'Author': 'J.R.R. Tolkien', 'Original Language': 'English', 'Year Published': 1937}\n",
      "{'Title': \"One Flew Over the Cuckoo's Nest\", 'Author': 'Ken Kesey', 'Original Language': 'English', 'Year Published': 1962}\n",
      "{'Title': 'Beyond Good and Evil', 'Author': 'Friedrich Nietzsche', 'Original Language': 'German', 'Year Published': 1886}\n",
      "{'Title': 'Frankenstein', 'Author': 'Mary Shelley', 'Original Language': 'English', 'Year Published': 1818}\n"
     ]
    }
   ],
   "source": [
    "#1.Define the structure for a book (template)\n",
    "Book_template = {\n",
    "    \"Title\": \"\",\n",
    "    \"Author\": \"\",\n",
    "    \"Original Language\": \"\",\n",
    "    \"Year Published\": int()\n",
    "}\n",
    "\n",
    "#2.Create a list to store books (as dictionaries)\n",
    "Library = []\n",
    "\n",
    "#3 part 1Define 4 books\n",
    "Book_collection = [\n",
    "    (\"The Hobbit\", \"J.R.R. Tolkien\", \"English\", 1937),\n",
    "    (\"One Flew Over the Cuckoo's Nest\", \"Ken Kesey\", \"English\", 1962),\n",
    "    (\"Beyond Good and Evil\", \"Friedrich Nietzsche\", \"German\", 1886),\n",
    "    (\"Frankenstein\", \"Mary Shelley\", \"English\", 1818)\n",
    "]\n",
    "\n",
    "#3 part 2 Add each book to the library as a dictionary\n",
    "for book_info in Book_collection:\n",
    "    title, author, language, year = book_info\n",
    "    new_book = Book_template.copy() \n",
    "    new_book[\"Title\"] = title\n",
    "    new_book[\"Author\"] = author\n",
    "    new_book[\"Original Language\"] = language\n",
    "    new_book[\"Year Published\"] = year\n",
    "    Library.append(new_book)\n",
    "\n",
    "for book in Library:\n",
    "    print(book)"
   ]
  },
  {
   "cell_type": "markdown",
   "metadata": {
    "id": "glMoedjYRWxJ"
   },
   "source": [
    "## Ejercicio 8\n",
    "Modifica los valores del idioma de todos los libros del ejercicio anterior para que sea \"esperanto\"\n"
   ]
  },
  {
   "cell_type": "code",
   "execution_count": 44,
   "metadata": {
    "id": "veNdC-uwRWxJ"
   },
   "outputs": [
    {
     "name": "stdout",
     "output_type": "stream",
     "text": [
      "{'Title': 'The Hobbit', 'Author': 'J.R.R. Tolkien', 'Original Language': 'esperanto', 'Year Published': 1937}\n",
      "{'Title': \"One Flew Over the Cuckoo's Nest\", 'Author': 'Ken Kesey', 'Original Language': 'esperanto', 'Year Published': 1962}\n",
      "{'Title': 'Beyond Good and Evil', 'Author': 'Friedrich Nietzsche', 'Original Language': 'esperanto', 'Year Published': 1886}\n",
      "{'Title': 'Frankenstein', 'Author': 'Mary Shelley', 'Original Language': 'esperanto', 'Year Published': 1818}\n"
     ]
    }
   ],
   "source": [
    "for book in Library:\n",
    "    book[\"Original Language\"] = \"esperanto\" \n",
    "\n",
    "for book in Library:\n",
    "    print(book)"
   ]
  },
  {
   "cell_type": "markdown",
   "metadata": {
    "id": "DRCJG04KRWxJ"
   },
   "source": [
    "## Ejercicio 9\n",
    "1. Escribe un programa que dada una variable titulo busque los libros que hay en la librería con ese título. Si no se encuentra debe devolver el mensaje `Ese no lo tengo, ¿mola?`\n",
    "2. Pruena que el programa con uno de tus libros y con otro que no contenga tu librería."
   ]
  },
  {
   "cell_type": "code",
   "execution_count": null,
   "metadata": {
    "id": "eWHdJi9BRWxJ"
   },
   "outputs": [],
   "source": []
  },
  {
   "cell_type": "markdown",
   "metadata": {
    "id": "17YOpYuFRWxJ"
   },
   "source": [
    "## Ejercicio 10\n",
    "Convierte el programa del ejercicio 2 en una función al que se le pase el valor a buscar como un argumento posicional"
   ]
  },
  {
   "cell_type": "code",
   "execution_count": null,
   "metadata": {
    "id": "xbj0LgvnRWxJ"
   },
   "outputs": [],
   "source": []
  },
  {
   "cell_type": "markdown",
   "metadata": {
    "id": "xZ-sWJxPRWxJ"
   },
   "source": [
    "## Ejercicio 11\n",
    "Convierte el programa del ejercicio 9 en una función al que se le pasen como argumentos la librería, posicional, y el título, argumento keyword con valor \"ninguno\", por defecto."
   ]
  },
  {
   "cell_type": "code",
   "execution_count": null,
   "metadata": {
    "id": "4-JrsMdNRWxK"
   },
   "outputs": [],
   "source": []
  },
  {
   "cell_type": "markdown",
   "metadata": {
    "id": "FtJir95QRWxK"
   },
   "source": [
    "## Ejercicio 12\n",
    "Solicitar al usuario que ingrese su dirección email. Imprimir un mensaje indicando si la dirección es válida o no, valiéndose de una función para decidirlo. Una dirección se considerará válida si contiene el símbolo \"@\"."
   ]
  },
  {
   "cell_type": "code",
   "execution_count": null,
   "metadata": {
    "id": "sk852IZ8RWxK"
   },
   "outputs": [],
   "source": []
  },
  {
   "cell_type": "markdown",
   "metadata": {
    "id": "Kw1MWBwBRWxK"
   },
   "source": [
    "## Ejercicio 13\n",
    "Escribe una función que compruebe si un DNI es válido, devolviendo `True` en caso afirmativo.  \n",
    "En primer lugar, el DNI debe tener entre 7 y 8 dígitos numéricos.  \n",
    "Para saber si la letra del DNI es correcta puedes utilizar el siguiente fragmento de código:\n",
    ">```Python\n",
    ">DNI= 55555555\n",
    ">palabra='TRWAGMYFPDXBNJZSQVHLCKE'\n",
    ">print('La letra del DNI es: ', palabra[DNI%23])\n",
    ">````\n"
   ]
  },
  {
   "cell_type": "code",
   "execution_count": null,
   "metadata": {
    "id": "F5Z9rSHqRWxK"
   },
   "outputs": [],
   "source": []
  }
 ],
 "metadata": {
  "colab": {
   "provenance": []
  },
  "kernelspec": {
   "display_name": "Python 3 (ipykernel)",
   "language": "python",
   "name": "python3"
  },
  "language_info": {
   "codemirror_mode": {
    "name": "ipython",
    "version": 3
   },
   "file_extension": ".py",
   "mimetype": "text/x-python",
   "name": "python",
   "nbconvert_exporter": "python",
   "pygments_lexer": "ipython3",
   "version": "3.11.7"
  }
 },
 "nbformat": 4,
 "nbformat_minor": 4
}
