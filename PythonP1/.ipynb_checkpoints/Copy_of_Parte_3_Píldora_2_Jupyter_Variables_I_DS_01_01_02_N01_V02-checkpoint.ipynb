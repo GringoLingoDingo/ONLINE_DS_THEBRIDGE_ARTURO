{
 "cells": [
  {
   "cell_type": "markdown",
   "metadata": {
    "id": "t9k24ilStE3l"
   },
   "source": [
    "<img src=\"./img/TheBridge_logo_RGB_color.jpg\" width = 250>\n",
    "<img src=\"./img/python.jpg\" width = 250>"
   ]
  },
  {
   "cell_type": "markdown",
   "metadata": {
    "id": "3rV0f2u_tE3q"
   },
   "source": [
    "# Python Basics I: Variables\n",
    "\n",
    "\n",
    "Bienvenido a tu primer asalto con Python. Empezamos nuestra aventura declarando variables.\n",
    "\n",
    "Las variables son una manera de etiquetar y conservar los datos del programa para luego poder emplearlos en diferentes sitios."
   ]
  },
  {
   "cell_type": "markdown",
   "metadata": {
    "id": "MwBP-A48tE3r"
   },
   "source": [
    "## Contenidos"
   ]
  },
  {
   "cell_type": "markdown",
   "metadata": {
    "id": "YxEl7TqRtE3s"
   },
   "source": [
    "* [Variables numéricas\n",
    "](#Variables-numéricas\n",
    ")\n",
    "* [Cadenas de texto\n",
    "](#Cadenas-de-texto\n",
    ")\n",
    "* [Escribir mal el nombre\n",
    "](#Escribir-mal-el-nombre\n",
    ")\n",
    "* [Cerrar bien los strings\n",
    "](#Cerrar-bien-los-strings\n",
    ")\n",
    "* [Prohibido espacios en los nombres de las variables\n",
    "](#Prohibido-espacios-en-los-nombres-de-las-variables\n",
    ")\n",
    "* [Números en el nombre de la variable\n",
    "](#Números-en-el-nombre-de-la-variable\n",
    ")\n",
    "* [Sensible a mayusculas\n",
    "](#Sensible-a-mayusculas\n",
    ")\n",
    "* [Palabras reservadas\n",
    "](#Palabras-reservadas\n",
    ")\n",
    "* [Resumen variables\n",
    "](#Resumen-variables\n",
    ")\n"
   ]
  },
  {
   "cell_type": "markdown",
   "metadata": {
    "id": "cYafgflItE3t"
   },
   "source": [
    "### Variables numéricas\n",
    "[al indice](#Contenidos)\n",
    "\n"
   ]
  },
  {
   "cell_type": "code",
   "execution_count": 3,
   "metadata": {},
   "outputs": [],
   "source": [
    "Income = 1000\n",
    "Expenses = 400"
   ]
  },
  {
   "cell_type": "code",
   "execution_count": 2,
   "metadata": {
    "id": "MtQbDAoPtE3u"
   },
   "outputs": [
    {
     "ename": "ModuleNotFoundError",
     "evalue": "No module named 'numpy'",
     "output_type": "error",
     "traceback": [
      "\u001b[31m---------------------------------------------------------------------------\u001b[39m",
      "\u001b[31mModuleNotFoundError\u001b[39m                       Traceback (most recent call last)",
      "\u001b[36mCell\u001b[39m\u001b[36m \u001b[39m\u001b[32mIn[2]\u001b[39m\u001b[32m, line 3\u001b[39m\n\u001b[32m      1\u001b[39m \u001b[38;5;66;03m# prompt: 10 random numbers using numpy\u001b[39;00m\n\u001b[32m----> \u001b[39m\u001b[32m3\u001b[39m \u001b[38;5;28;01mimport\u001b[39;00m\u001b[38;5;250m \u001b[39m\u001b[34;01mnumpy\u001b[39;00m\u001b[38;5;250m \u001b[39m\u001b[38;5;28;01mas\u001b[39;00m\u001b[38;5;250m \u001b[39m\u001b[34;01mnp\u001b[39;00m\n\u001b[32m      5\u001b[39m random_numbers = np.random.rand(\u001b[32m10\u001b[39m)\n\u001b[32m      6\u001b[39m \u001b[38;5;28mprint\u001b[39m(random_numbers)\n",
      "\u001b[31mModuleNotFoundError\u001b[39m: No module named 'numpy'"
     ]
    }
   ],
   "source": [
    "# prompt: 10 random numbers using numpy\n",
    "\n",
    "import numpy as np\n",
    "\n",
    "random_numbers = np.random.rand(10)\n",
    "print(random_numbers)\n"
   ]
  },
  {
   "cell_type": "markdown",
   "metadata": {
    "id": "hQhUdzk5tE3v"
   },
   "source": [
    "**Esto es una asignación**. A la palabra *ingresos*, le asignamos un valor mediante `=`.\n",
    "Si queremos ver el valor de la variable, simplemente escribimos su nombre en una celda."
   ]
  },
  {
   "cell_type": "code",
   "execution_count": 4,
   "metadata": {
    "id": "YEx19cXYtE3v"
   },
   "outputs": [
    {
     "data": {
      "text/plain": [
       "1000"
      ]
     },
     "execution_count": 4,
     "metadata": {},
     "output_type": "execute_result"
    }
   ],
   "source": [
    "Income"
   ]
  },
  {
   "cell_type": "code",
   "execution_count": 5,
   "metadata": {
    "id": "rfE5NpJGtE3w"
   },
   "outputs": [
    {
     "data": {
      "text/plain": [
       "400"
      ]
     },
     "execution_count": 5,
     "metadata": {},
     "output_type": "execute_result"
    }
   ],
   "source": [
    "Income\n",
    "Expenses"
   ]
  },
  {
   "cell_type": "code",
   "execution_count": 7,
   "metadata": {
    "id": "NVNXRKbhtE3w"
   },
   "outputs": [
    {
     "name": "stdout",
     "output_type": "stream",
     "text": [
      "1000\n",
      "400\n"
     ]
    }
   ],
   "source": [
    "print(Income)\n",
    "print(Expenses)"
   ]
  },
  {
   "cell_type": "code",
   "execution_count": 8,
   "metadata": {
    "id": "zw12hwr1tE3w"
   },
   "outputs": [],
   "source": [
    "margin = Income - Expenses"
   ]
  },
  {
   "cell_type": "code",
   "execution_count": 10,
   "metadata": {
    "id": "CwIqfVA7tE3x"
   },
   "outputs": [
    {
     "name": "stdout",
     "output_type": "stream",
     "text": [
      "600\n"
     ]
    }
   ],
   "source": [
    "print(margin)"
   ]
  },
  {
   "cell_type": "code",
   "execution_count": 11,
   "metadata": {
    "id": "lA_ydwrdtE3x"
   },
   "outputs": [
    {
     "name": "stdout",
     "output_type": "stream",
     "text": [
      "600\n"
     ]
    }
   ],
   "source": [
    "print(Income - Expenses)"
   ]
  },
  {
   "cell_type": "markdown",
   "metadata": {
    "id": "XPdHX1MdtE3y"
   },
   "source": [
    "### Cadenas de texto\n",
    "[al indice](#Contenidos)\n",
    "\n",
    "Las cadenas de texto se declaran con comillas simples o dobles"
   ]
  },
  {
   "cell_type": "code",
   "execution_count": 14,
   "metadata": {
    "id": "6AvotMWTtE3y"
   },
   "outputs": [
    {
     "name": "stdout",
     "output_type": "stream",
     "text": [
      "The Income was high\n",
      "The Income was high\n"
     ]
    }
   ],
   "source": [
    "Income_text = \"The Income was high\"\n",
    "Income_High = 'The Income was high'\n",
    "print(Income_text)\n",
    "print(Income_High)"
   ]
  },
  {
   "cell_type": "code",
   "execution_count": 15,
   "metadata": {
    "id": "a_YQR4rFtE3z"
   },
   "outputs": [],
   "source": [
    "Income_text = \"The 'Income' was high\""
   ]
  },
  {
   "cell_type": "code",
   "execution_count": 16,
   "metadata": {
    "id": "ZH8e1YQatE3z"
   },
   "outputs": [
    {
     "data": {
      "text/plain": [
       "\"The 'Income' was high\""
      ]
     },
     "execution_count": 16,
     "metadata": {},
     "output_type": "execute_result"
    }
   ],
   "source": [
    "Income_text"
   ]
  },
  {
   "cell_type": "code",
   "execution_count": 22,
   "metadata": {
    "id": "vWfSjgRutE3z"
   },
   "outputs": [
    {
     "ename": "SyntaxError",
     "evalue": "invalid syntax (804444223.py, line 1)",
     "output_type": "error",
     "traceback": [
      "  \u001b[36mCell\u001b[39m\u001b[36m \u001b[39m\u001b[32mIn[22]\u001b[39m\u001b[32m, line 1\u001b[39m\n\u001b[31m    \u001b[39m\u001b[31mIncome_text = \"the \"Income\" Was high\"\u001b[39m\n                        ^\n\u001b[31mSyntaxError\u001b[39m\u001b[31m:\u001b[39m invalid syntax\n"
     ]
    }
   ],
   "source": [
    "Income_text = \"the \"Income\" Was high\""
   ]
  },
  {
   "cell_type": "code",
   "execution_count": 25,
   "metadata": {},
   "outputs": [],
   "source": [
    "Income=1000\n",
    "Income = 1000\n",
    "Income_text = \"The Income was high\"\n",
    "Incometext = \"The Income was high\""
   ]
  },
  {
   "cell_type": "markdown",
   "metadata": {
    "id": "RMqQkmCjtE30"
   },
   "source": [
    "Python es un lenguaje dinámico por lo que siempre podremos actualizar los valores de las variables. **Se recomienda usar nombres descriptivos para declarar las variables, pero no excesivamente largos**. Así evitamos sobreescribirlas sin querer.\n",
    "\n",
    "Por otro lado, cuidado con los caracteres ele y uno (`l` vs `1`), así como con cero y o (`0` vs `O`). Se suelen confundir.\n",
    "\n",
    "fatal vs fata1\n",
    "\n",
    "clarO vs clar0\n",
    "\n",
    "Reasignamos valor a gastos"
   ]
  },
  {
   "cell_type": "code",
   "execution_count": 26,
   "metadata": {
    "id": "NP-5U4aLtE30"
   },
   "outputs": [],
   "source": [
    "Expenses = 200"
   ]
  },
  {
   "cell_type": "code",
   "execution_count": 30,
   "metadata": {
    "id": "1pGee75-tE31"
   },
   "outputs": [
    {
     "name": "stdout",
     "output_type": "stream",
     "text": [
      "100\n"
     ]
    }
   ],
   "source": [
    "print(Expenses)"
   ]
  },
  {
   "cell_type": "markdown",
   "metadata": {
    "id": "xPVtK8jStE31"
   },
   "source": [
    "Ahora la variable gastos vale 200. Si la última línea de una celda es una variable, su valor será el *output* de la celda: 200.\n",
    "\n",
    "Vale, ¿y de qué nos sirve guardar variables?\n",
    "\n",
    "Podremos usar estos datos posteriormente, en otro lugar del programa. Por ejemplo, si ahora en una celda nueva queremos obtener el beneficio, simplemente restamos los nombres de las variables"
   ]
  },
  {
   "cell_type": "code",
   "execution_count": 28,
   "metadata": {
    "id": "8MHi4eFetE31"
   },
   "outputs": [],
   "source": [
    "Expenses = 100"
   ]
  },
  {
   "cell_type": "code",
   "execution_count": null,
   "metadata": {
    "id": "4ltH3iPUtE32"
   },
   "outputs": [],
   "source": [
    "Profits = Income - Expenses"
   ]
  },
  {
   "cell_type": "code",
   "execution_count": 31,
   "metadata": {},
   "outputs": [
    {
     "name": "stdout",
     "output_type": "stream",
     "text": [
      "900\n"
     ]
    }
   ],
   "source": [
    "print(Profits)"
   ]
  },
  {
   "cell_type": "markdown",
   "metadata": {
    "id": "DB10vsSatE32"
   },
   "source": [
    "<table align=\"left\">\n",
    " <tr><td width=\"80\"><img src=\"img/error.png\" style=\"width:auto;height:auto\"></td>\n",
    "     <td style=\"text-align:left\">\n",
    "         <h3>ERRORES en variables</h3>\n",
    "         \n",
    " </td></tr>\n",
    "</table>"
   ]
  },
  {
   "cell_type": "markdown",
   "metadata": {
    "id": "ZYUauRIatE33"
   },
   "source": [
    "### Escribir mal el nombre\n",
    "[al indice](#Contenidos)\n",
    "\n",
    "Un error típico cuando declaramos variables es **escribir su nombre mal, o llamar despues a la variable de forma errónea**. En tal caso, aparece un `NameError: name 'variable_que_no_existe' is not defined`"
   ]
  },
  {
   "cell_type": "code",
   "execution_count": 32,
   "metadata": {
    "id": "4ZbzHTYwtE33"
   },
   "outputs": [
    {
     "ename": "NameError",
     "evalue": "name 'gstos' is not defined",
     "output_type": "error",
     "traceback": [
      "\u001b[31m---------------------------------------------------------------------------\u001b[39m",
      "\u001b[31mNameError\u001b[39m                                 Traceback (most recent call last)",
      "\u001b[36mCell\u001b[39m\u001b[36m \u001b[39m\u001b[32mIn[32]\u001b[39m\u001b[32m, line 1\u001b[39m\n\u001b[32m----> \u001b[39m\u001b[32m1\u001b[39m \u001b[43mgstos\u001b[49m\n",
      "\u001b[31mNameError\u001b[39m: name 'gstos' is not defined"
     ]
    }
   ],
   "source": [
    "gstos"
   ]
  },
  {
   "cell_type": "markdown",
   "metadata": {
    "id": "r2kVKhEutE34"
   },
   "source": [
    "Fíjate que te indica la línea donde se produce el error, el tipo de error (`NameError`), y una breve descripción del error."
   ]
  },
  {
   "cell_type": "markdown",
   "metadata": {
    "id": "ZbioKWXatE35"
   },
   "source": [
    "### Cerrar bien los strings\n",
    "[al indice](#Contenidos)\n",
    "\n",
    "\n",
    "Cuidado tambien cuando definamos una cadena de texto, y se nos olvide cerrarla con sus correspondientes comillas. Nos dará un `SyntaxError: EOL while scanning string literal` (End Of Line)"
   ]
  },
  {
   "cell_type": "code",
   "execution_count": 33,
   "metadata": {
    "id": "EiLxnbnttE35"
   },
   "outputs": [
    {
     "ename": "SyntaxError",
     "evalue": "unterminated string literal (detected at line 1) (3362497407.py, line 1)",
     "output_type": "error",
     "traceback": [
      "  \u001b[36mCell\u001b[39m\u001b[36m \u001b[39m\u001b[32mIn[33]\u001b[39m\u001b[32m, line 1\u001b[39m\n\u001b[31m    \u001b[39m\u001b[31mtext = \"error no quotations\u001b[39m\n           ^\n\u001b[31mSyntaxError\u001b[39m\u001b[31m:\u001b[39m unterminated string literal (detected at line 1)\n"
     ]
    }
   ],
   "source": [
    "text = \"error no quotations"
   ]
  },
  {
   "cell_type": "code",
   "execution_count": 34,
   "metadata": {
    "id": "7dTv8vvqtE36"
   },
   "outputs": [
    {
     "ename": "SyntaxError",
     "evalue": "unterminated string literal (detected at line 1) (2720380327.py, line 1)",
     "output_type": "error",
     "traceback": [
      "  \u001b[36mCell\u001b[39m\u001b[36m \u001b[39m\u001b[32mIn[34]\u001b[39m\u001b[32m, line 1\u001b[39m\n\u001b[31m    \u001b[39m\u001b[31mtext = \"error no quotations'\u001b[39m\n           ^\n\u001b[31mSyntaxError\u001b[39m\u001b[31m:\u001b[39m unterminated string literal (detected at line 1)\n"
     ]
    }
   ],
   "source": [
    "text = \"error no quotations'"
   ]
  },
  {
   "cell_type": "markdown",
   "metadata": {
    "id": "9vdLLFPEtE37"
   },
   "source": [
    "### Prohibido espacios en los nombres de las variables\n",
    "[al indice](#Contenidos)\n",
    "\n",
    "\n",
    "También dará error si tenemos un espacio en la declaración de la variable. Se recomienda mínusculas y guiones bajos para simular los espacios.\n",
    "\n",
    "**Los espacios que encuentres alrededor del igual se pueden usar perfectamente**. Es pura estética a la hora de leer el código."
   ]
  },
  {
   "cell_type": "code",
   "execution_count": null,
   "metadata": {
    "id": "WPjckNTMtE38"
   },
   "outputs": [],
   "source": [
    "Total Income = 500"
   ]
  },
  {
   "cell_type": "code",
   "execution_count": 36,
   "metadata": {
    "id": "_T213ZjhtE38"
   },
   "outputs": [
    {
     "ename": "NameError",
     "evalue": "name 'TotalIncome' is not defined",
     "output_type": "error",
     "traceback": [
      "\u001b[31m---------------------------------------------------------------------------\u001b[39m",
      "\u001b[31mNameError\u001b[39m                                 Traceback (most recent call last)",
      "\u001b[36mCell\u001b[39m\u001b[36m \u001b[39m\u001b[32mIn[36]\u001b[39m\u001b[32m, line 1\u001b[39m\n\u001b[32m----> \u001b[39m\u001b[32m1\u001b[39m \u001b[38;5;28mprint\u001b[39m(\u001b[43mTotalIncome\u001b[49m)\n",
      "\u001b[31mNameError\u001b[39m: name 'TotalIncome' is not defined"
     ]
    }
   ],
   "source": [
    "print(TotalIncome)"
   ]
  },
  {
   "cell_type": "markdown",
   "metadata": {
    "id": "SQk2oMDztE38"
   },
   "source": [
    "### Números en el nombre de la variable\n",
    "[al indice](#Contenidos)\n",
    "\n",
    "Ojo con los números cuando declaremos variables. En ocasiones es determinante describir nuestra variable con algún número. En tal caso, ponlo siempre al final del nombre de la variable, ya que sino saltará un error."
   ]
  },
  {
   "cell_type": "code",
   "execution_count": 37,
   "metadata": {
    "id": "I5UZ1sQWtE39"
   },
   "outputs": [
    {
     "ename": "SyntaxError",
     "evalue": "invalid decimal literal (3629084561.py, line 1)",
     "output_type": "error",
     "traceback": [
      "  \u001b[36mCell\u001b[39m\u001b[36m \u001b[39m\u001b[32mIn[37]\u001b[39m\u001b[32m, line 1\u001b[39m\n\u001b[31m    \u001b[39m\u001b[31m2009_Income = 1000\u001b[39m\n        ^\n\u001b[31mSyntaxError\u001b[39m\u001b[31m:\u001b[39m invalid decimal literal\n"
     ]
    }
   ],
   "source": [
    "2009_Income = 1000"
   ]
  },
  {
   "cell_type": "code",
   "execution_count": 38,
   "metadata": {
    "id": "FdEhMMn_tE39"
   },
   "outputs": [],
   "source": [
    "Income_2009 = 1000"
   ]
  },
  {
   "cell_type": "markdown",
   "metadata": {
    "id": "SFaxnvWctE39"
   },
   "source": [
    "### Sensible a mayusculas\n",
    "[al indice](#Contenidos)\n",
    "\n",
    "\n",
    "Mucho cuidado con las mayusculas y minusculas porque Python no las ignora. Si todas las letras de una variable están en mayusculas, tendremos que usarla en mayusculas, sino dará un error de que no encuentra la variable."
   ]
  },
  {
   "cell_type": "code",
   "execution_count": null,
   "metadata": {
    "id": "gJyO5-VStE3-"
   },
   "outputs": [],
   "source": [
    "income = 700"
   ]
  },
  {
   "cell_type": "code",
   "execution_count": 39,
   "metadata": {
    "id": "MfCnT548tE3_"
   },
   "outputs": [
    {
     "ename": "NameError",
     "evalue": "name 'iNcome' is not defined",
     "output_type": "error",
     "traceback": [
      "\u001b[31m---------------------------------------------------------------------------\u001b[39m",
      "\u001b[31mNameError\u001b[39m                                 Traceback (most recent call last)",
      "\u001b[36mCell\u001b[39m\u001b[36m \u001b[39m\u001b[32mIn[39]\u001b[39m\u001b[32m, line 1\u001b[39m\n\u001b[32m----> \u001b[39m\u001b[32m1\u001b[39m \u001b[38;5;28mprint\u001b[39m(\u001b[43miNcome\u001b[49m)\n",
      "\u001b[31mNameError\u001b[39m: name 'iNcome' is not defined"
     ]
    }
   ],
   "source": [
    "print(iNcome)"
   ]
  },
  {
   "cell_type": "markdown",
   "metadata": {
    "id": "dWZypPVKtE3_"
   },
   "source": [
    "### Palabras reservadas\n",
    "[al indice](#Contenidos)\n",
    "\n",
    "\n",
    "En Python, como en otros lenguajes, hay una serie de palabras reservadas que tienen un significado para el intérprete de Python y por lo tanto no podemos usar para ponerle nombre a nuestras variables.\n",
    "\n",
    "Por ejemplo, `def` se usa para definir funciones en Python (lo veremos en otros notebooks), por lo que no podemos emplear `def` para nombrar a nuestras variables"
   ]
  },
  {
   "cell_type": "code",
   "execution_count": 40,
   "metadata": {
    "id": "oGXjiD6gtE4A"
   },
   "outputs": [
    {
     "ename": "SyntaxError",
     "evalue": "invalid syntax (2058676758.py, line 1)",
     "output_type": "error",
     "traceback": [
      "  \u001b[36mCell\u001b[39m\u001b[36m \u001b[39m\u001b[32mIn[40]\u001b[39m\u001b[32m, line 1\u001b[39m\n\u001b[31m    \u001b[39m\u001b[31mdef = 1000\u001b[39m\n        ^\n\u001b[31mSyntaxError\u001b[39m\u001b[31m:\u001b[39m invalid syntax\n"
     ]
    }
   ],
   "source": [
    "def = 1000"
   ]
  },
  {
   "cell_type": "markdown",
   "metadata": {
    "id": "qoGOB0y0tE4B"
   },
   "source": [
    "Consulta la lista de palabras reservadas de Python"
   ]
  },
  {
   "cell_type": "code",
   "execution_count": 42,
   "metadata": {
    "id": "uOUoeAbvtE4B"
   },
   "outputs": [
    {
     "name": "stdout",
     "output_type": "stream",
     "text": [
      "['False', 'None', 'True', 'and', 'as', 'assert', 'async', 'await', 'break', 'class', 'continue', 'def', 'del', 'elif', 'else', 'except', 'finally', 'for', 'from', 'global', 'if', 'import', 'in', 'is', 'lambda', 'nonlocal', 'not', 'or', 'pass', 'raise', 'return', 'try', 'while', 'with', 'yield']\n"
     ]
    }
   ],
   "source": [
    "import keyword\n",
    "print(keyword.kwlist)"
   ]
  },
  {
   "cell_type": "code",
   "execution_count": 43,
   "metadata": {
    "id": "iwNSgwQxtE4C"
   },
   "outputs": [
    {
     "name": "stdout",
     "output_type": "stream",
     "text": [
      "\n",
      "Here is a list of the Python keywords.  Enter any keyword to get more help.\n",
      "\n",
      "False               class               from                or\n",
      "None                continue            global              pass\n",
      "True                def                 if                  raise\n",
      "and                 del                 import              return\n",
      "as                  elif                in                  try\n",
      "assert              else                is                  while\n",
      "async               except              lambda              with\n",
      "await               finally             nonlocal            yield\n",
      "break               for                 not                 \n",
      "\n"
     ]
    }
   ],
   "source": [
    "help(\"keywords\")"
   ]
  },
  {
   "cell_type": "markdown",
   "metadata": {
    "id": "ruqMFYGotE4C"
   },
   "source": [
    "### Resumen variables\n",
    "[al indice](#Contenidos)\n",
    "\n",
    "\n",
    "En resumen:\n",
    "* Usar minusculas. Sensible a mayusculas/minusculas\n",
    "* No usar espacios\n",
    "* No usar palabras reservadas\n",
    "* No usar numeros al principio de la variable\n",
    "* Cuidado con los caracteres `l`, `1`, `O`, `0`"
   ]
  },
  {
   "cell_type": "code",
   "execution_count": null,
   "metadata": {
    "id": "Zl6zXwnCtE4D"
   },
   "outputs": [],
   "source": []
  },
  {
   "cell_type": "code",
   "execution_count": null,
   "metadata": {
    "id": "niJSVJ_qtE4D"
   },
   "outputs": [],
   "source": []
  },
  {
   "cell_type": "code",
   "execution_count": null,
   "metadata": {
    "id": "PCoKUu9btE4E"
   },
   "outputs": [],
   "source": []
  }
 ],
 "metadata": {
  "colab": {
   "provenance": []
  },
  "kernelspec": {
   "display_name": "Python 3 (ipykernel)",
   "language": "python",
   "name": "python3"
  },
  "language_info": {
   "codemirror_mode": {
    "name": "ipython",
    "version": 3
   },
   "file_extension": ".py",
   "mimetype": "text/x-python",
   "name": "python",
   "nbconvert_exporter": "python",
   "pygments_lexer": "ipython3",
   "version": "3.11.7"
  },
  "nbTranslate": {
   "displayLangs": [
    "*"
   ],
   "hotkey": "alt-t",
   "langInMainMenu": true,
   "sourceLang": "en",
   "targetLang": "fr",
   "useGoogleTranslate": true
  },
  "varInspector": {
   "cols": {
    "lenName": 16,
    "lenType": 16,
    "lenVar": 40
   },
   "kernels_config": {
    "python": {
     "delete_cmd_postfix": "",
     "delete_cmd_prefix": "del ",
     "library": "var_list.py",
     "varRefreshCmd": "print(var_dic_list())"
    },
    "r": {
     "delete_cmd_postfix": ") ",
     "delete_cmd_prefix": "rm(",
     "library": "var_list.r",
     "varRefreshCmd": "cat(var_dic_list()) "
    }
   },
   "types_to_exclude": [
    "module",
    "function",
    "builtin_function_or_method",
    "instance",
    "_Feature"
   ],
   "window_display": false
  }
 },
 "nbformat": 4,
 "nbformat_minor": 4
}
