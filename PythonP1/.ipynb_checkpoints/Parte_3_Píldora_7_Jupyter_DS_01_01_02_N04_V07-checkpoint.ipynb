{
 "cells": [
  {
   "cell_type": "markdown",
   "metadata": {
    "id": "cVKE4hEPX5l9"
   },
   "source": [
    "<img src = \"./img/TheBridge_logo_RGB_color.jpg\" width = 500><img src = \"./img/python.jpg\" width = 500>"
   ]
  },
  {
   "cell_type": "markdown",
   "metadata": {
    "id": "-5bhFryrX5l-"
   },
   "source": [
    "# Python Basics I\n",
    "\n"
   ]
  },
  {
   "cell_type": "markdown",
   "metadata": {
    "id": "O3qHxuWRX5l_"
   },
   "source": [
    "## Contenidos"
   ]
  },
  {
   "cell_type": "markdown",
   "metadata": {
    "id": "14Q473gJX5l_"
   },
   "source": [
    "* [Conversión de tipos](#Conversión-de-tipos)\n",
    "* [Input](#Input)\n",
    "* [None](#None)\n",
    "* [Sintaxis y best practices](#Sintaxis-y-best-practices)\n"
   ]
  },
  {
   "cell_type": "markdown",
   "metadata": {
    "id": "SnoBN2lfX5l_"
   },
   "source": [
    "## Conversión de tipos\n",
    "[al indice](#Contenidos)\n",
    "Como en otros lenguajes, en Python también tenemos la posibilidad de realizar conversiones entre los tipos de datos. Hasta ahora hemos visto pocos, pero cuando descubramos más tipos de datos y objetos, verás que son muy comunes estas transformaciones.\n",
    "\n",
    "Un caso muy habitual es leer un archivo datos numéricos, y que Python interprete los números como caracteres. No es un error, pero posteriormente, cuando hagamos operaciones con nuestros números, tendremos errores, ya que en realidad son cadenas de texto. Si forzamos el cambio a numerico, nos evitaremos futuros problemas.\n",
    "\n",
    "**Mucho cuidado en los cambios de tipos**. Tenemos que estar seguros de lo que hacemos ya que podemos perder información, o lo más probable, puede dar error, al no ser compatible el cambio.\n",
    "\n",
    "Veamos como cambiar los tipos"
   ]
  },
  {
   "cell_type": "code",
   "execution_count": 2,
   "metadata": {
    "colab": {
     "base_uri": "https://localhost:8080/"
    },
    "id": "vdCDePnqX5mA",
    "outputId": "c83cb4eb-adcd-4419-ab25-a7fcb6aa186e"
   },
   "outputs": [
    {
     "name": "stdout",
     "output_type": "stream",
     "text": [
      "<class 'float'>\n",
      "24\n",
      "<class 'int'>\n"
     ]
    }
   ],
   "source": [
    "real_number = 24.69\n",
    "print(type(real_number))\n",
    "\n",
    "whole_number = int(real_number)\n",
    "print(whole_number)\n",
    "print(type(whole_number))"
   ]
  },
  {
   "cell_type": "markdown",
   "metadata": {
    "id": "QdWCjIbjX5mA"
   },
   "source": [
    "Perdemos unos decimales, normalmente nada grave, aunque depende de la aplicación.\n",
    "\n",
    "**NOTA**: si lo que queremos es redondear, podemos usar la función `round()`"
   ]
  },
  {
   "cell_type": "code",
   "execution_count": 3,
   "metadata": {
    "id": "wVlusQvYX5mA"
   },
   "outputs": [],
   "source": [
    "# Esta funcion tiene dos argumentos: el número y la cantidad de decimales que queremos conservar.\n",
    "# Veremos funciones más adelante.\n",
    "real_number = 24.868\n",
    "rounded_number = round(real_number,2)"
   ]
  },
  {
   "cell_type": "code",
   "execution_count": 4,
   "metadata": {},
   "outputs": [
    {
     "name": "stdout",
     "output_type": "stream",
     "text": [
      "24.87\n"
     ]
    }
   ],
   "source": [
    "print(rounded_number)"
   ]
  },
  {
   "cell_type": "markdown",
   "metadata": {
    "id": "oMuhBbdsX5mB"
   },
   "source": [
    "Para pasar de un **numero a string**, no hay problema"
   ]
  },
  {
   "cell_type": "code",
   "execution_count": 7,
   "metadata": {
    "id": "XZ7s0Z0QX5mB"
   },
   "outputs": [
    {
     "name": "stdout",
     "output_type": "stream",
     "text": [
      "25.0 <class 'float'>\n"
     ]
    }
   ],
   "source": [
    "rounded_number = 24.69\n",
    "converted_number = round(rounded_number,0)\n",
    "print(converted_number, type(converted_number))"
   ]
  },
  {
   "cell_type": "code",
   "execution_count": 8,
   "metadata": {
    "id": "f4U-o3DJX5mB"
   },
   "outputs": [
    {
     "name": "stdout",
     "output_type": "stream",
     "text": [
      "24.69 its type is <class 'str'>\n",
      "12 its type is <class 'str'>\n"
     ]
    }
   ],
   "source": [
    "real_number = 24.69\n",
    "whole_number = 12\n",
    "\n",
    "real_string = str(real_number)\n",
    "whole_string = str(whole_number)\n",
    "\n",
    "print(real_string, \"its type is\", type(real_string))\n",
    "print(whole_string, \"its type is\", type(whole_string))"
   ]
  },
  {
   "cell_type": "code",
   "execution_count": 9,
   "metadata": {
    "id": "PmAIVXwOX5mC"
   },
   "outputs": [
    {
     "name": "stdout",
     "output_type": "stream",
     "text": [
      "36.69\n",
      "24.6912\n"
     ]
    }
   ],
   "source": [
    "print(real_number + whole_number)\n",
    "print(real_string + whole_string)"
   ]
  },
  {
   "cell_type": "markdown",
   "metadata": {
    "id": "PE5mSpnTX5mB"
   },
   "source": [
    "De **String a un número** tampoco suele haber problema. Hay que tener mucho cuidado con los puntos de los decimales. **Puntos, NO comas**"
   ]
  },
  {
   "cell_type": "code",
   "execution_count": 10,
   "metadata": {},
   "outputs": [
    {
     "name": "stdout",
     "output_type": "stream",
     "text": [
      "98\n"
     ]
    }
   ],
   "source": [
    "My_whole = 98\n",
    "print(My_whole)"
   ]
  },
  {
   "cell_type": "code",
   "execution_count": 17,
   "metadata": {},
   "outputs": [
    {
     "name": "stdout",
     "output_type": "stream",
     "text": [
      "98 <class 'str'>\n",
      "98 <class 'int'>\n",
      "98.34 <class 'float'>\n"
     ]
    }
   ],
   "source": [
    "my_string = \"98\"\n",
    "my_whole = int(my_string)\n",
    "print(my_string, type(my_string))\n",
    "print(my_whole, type(my_whole))\n",
    "my_real_string = \"98.34\"\n",
    "my_real = float(my_real_string)\n",
    "print(my_real, type(my_real))"
   ]
  },
  {
   "cell_type": "markdown",
   "metadata": {
    "id": "eHOw_lqsX5mB"
   },
   "source": [
    "Pasar de **numero a boleano y viceversa**, tambien es bastante sencillo. Simplemente ten en cuenta que los 0s son `False`, y el resto de numeros equivalen a un `True`"
   ]
  },
  {
   "cell_type": "markdown",
   "metadata": {
    "id": "m4kAmYygX5mC"
   },
   "source": [
    "En el caso de transformar **String a booleano**, los strings vacíos serán `False`, mientras que los que tengan cualquier cadena, equivaldrán a `True`.\n",
    "\n",
    "Sin embargo, si la operación es la inversa, el booleano `True` pasará a valer una cadena de texto como `True`, y para `False` lo mismo."
   ]
  },
  {
   "cell_type": "code",
   "execution_count": 18,
   "metadata": {
    "id": "Pihq3tMIX5mC"
   },
   "outputs": [
    {
     "name": "stdout",
     "output_type": "stream",
     "text": [
      "True <class 'bool'>\n"
     ]
    }
   ],
   "source": [
    "boolean = bool(123)\n",
    "print(boolean, type(boolean))"
   ]
  },
  {
   "cell_type": "code",
   "execution_count": 19,
   "metadata": {},
   "outputs": [
    {
     "name": "stdout",
     "output_type": "stream",
     "text": [
      "False <class 'type'>\n"
     ]
    }
   ],
   "source": [
    "boolean = bool(0)\n",
    "print(boolean, type(bool))"
   ]
  },
  {
   "cell_type": "code",
   "execution_count": 20,
   "metadata": {},
   "outputs": [
    {
     "name": "stdout",
     "output_type": "stream",
     "text": [
      "False <class 'bool'>\n",
      "True <class 'bool'>\n"
     ]
    }
   ],
   "source": [
    "boolean = bool(\"\")\n",
    "boolean2 = bool(\"this is another ype of boolean\")\n",
    "print(boolean, type(boolean))\n",
    "print(boolean2, type(boolean2))"
   ]
  },
  {
   "cell_type": "code",
   "execution_count": 21,
   "metadata": {},
   "outputs": [],
   "source": [
    "bool_str = str(boolean)\n",
    "bool_2_str = str(boolean)"
   ]
  },
  {
   "cell_type": "markdown",
   "metadata": {
    "id": "asTtemeNX5mC"
   },
   "source": [
    "<table align=\"left\">\n",
    " <tr><td width=\"80\"><img src=\"img/error.png\" style=\"width:auto;height:auto\"></td>\n",
    "     <td style=\"text-align:left\">\n",
    "         <h3>ERRORES en conversion de tipos</h3>\n",
    "         \n",
    " </td></tr>\n",
    "</table>"
   ]
  },
  {
   "cell_type": "markdown",
   "metadata": {
    "id": "2gk4mUFlX5mC"
   },
   "source": [
    "Ojo si intentamos pasar a entero un string con pinta de real. En cuanto lleva el punto, ya tiene que ser un numero real. A no ser que lo pasemos a real y posteriormente a entero (`int()`), o usando el `round()` como vimos anteriormente"
   ]
  },
  {
   "cell_type": "code",
   "execution_count": 5,
   "metadata": {
    "id": "0jH9hybLX5mD"
   },
   "outputs": [
    {
     "ename": "ValueError",
     "evalue": "could not convert string to float: '68,34'",
     "output_type": "error",
     "traceback": [
      "\u001b[31m---------------------------------------------------------------------------\u001b[39m",
      "\u001b[31mValueError\u001b[39m                                Traceback (most recent call last)",
      "\u001b[36mCell\u001b[39m\u001b[36m \u001b[39m\u001b[32mIn[5]\u001b[39m\u001b[32m, line 2\u001b[39m\n\u001b[32m      1\u001b[39m real_string = \u001b[33m\"\u001b[39m\u001b[33m68,34\u001b[39m\u001b[33m\"\u001b[39m\n\u001b[32m----> \u001b[39m\u001b[32m2\u001b[39m real = \u001b[38;5;28;43mfloat\u001b[39;49m\u001b[43m(\u001b[49m\u001b[43mreal_string\u001b[49m\u001b[43m)\u001b[49m\n",
      "\u001b[31mValueError\u001b[39m: could not convert string to float: '68,34'"
     ]
    }
   ],
   "source": [
    "real_string = \"68,34\"\n",
    "real = float(real_string)"
   ]
  },
  {
   "cell_type": "markdown",
   "metadata": {
    "id": "4IjH5-bjX5mD"
   },
   "source": [
    "Si leemos datos con decimales y tenemos comas en vez de puntos, habrá errores."
   ]
  },
  {
   "cell_type": "code",
   "execution_count": 6,
   "metadata": {
    "id": "YYLZk9r_X5mD"
   },
   "outputs": [
    {
     "data": {
      "text/plain": [
       "'68.34'"
      ]
     },
     "execution_count": 6,
     "metadata": {},
     "output_type": "execute_result"
    }
   ],
   "source": [
    "real_string.replace(\",\",\".\")"
   ]
  },
  {
   "cell_type": "markdown",
   "metadata": {
    "id": "WXshhJl7X5mD"
   },
   "source": [
    "Para solventar esto utilizaremos funciones que sustituyan unos caracteres por otros"
   ]
  },
  {
   "cell_type": "code",
   "execution_count": 9,
   "metadata": {
    "id": "b87mtgazX5mD"
   },
   "outputs": [
    {
     "name": "stdout",
     "output_type": "stream",
     "text": [
      "<class 'str'>\n"
     ]
    }
   ],
   "source": [
    "new_string = real_string.replace(\",\",\".\")\n",
    "print(type(new_string))"
   ]
  },
  {
   "cell_type": "code",
   "execution_count": 11,
   "metadata": {},
   "outputs": [
    {
     "name": "stdout",
     "output_type": "stream",
     "text": [
      "68.34 <class 'float'>\n"
     ]
    }
   ],
   "source": [
    "real = float(new_string)\n",
    "print(real, type(real))"
   ]
  },
  {
   "cell_type": "markdown",
   "metadata": {
    "id": "WiYe_qlLX5mD"
   },
   "source": [
    "Es fudndamental operar con los mismos tipos de datos. Mira lo que ocurre cuando sumamos texto con un numero. Da un `TypeError`. Básicamente nos dice que no puedes concatenar un texto con un numero entero"
   ]
  },
  {
   "cell_type": "code",
   "execution_count": null,
   "metadata": {
    "id": "uTe4PksuX5mE"
   },
   "outputs": [],
   "source": []
  },
  {
   "cell_type": "markdown",
   "metadata": {
    "id": "F65wPCntX5mE"
   },
   "source": [
    "## Input\n",
    "[al indice](#Contenidos)\n",
    "Esta sentencia se usa en Python para recoger un valor que escriba el usuario del programa. Los programas suelen funcionar de esa manera, reciben un input, realizan operaciones, y acaban sacando un output para el usuario.\n",
    "\n",
    "Por ejemplo, en la siguiente celda recojo un input, que luego podremos usar en celdas posteriores.\n",
    "\n",
    "**CUIDADO**. Si corres una celda con un `input()` el programa se queda esperando a que el usuario meta un valor. Si en el momento en el que está esperando, vuelves a correr la misma celda, se te puede quedar pillado, depende del ordendaor/versión de Jupyter. Si eso ocurre, pincha en la celda y dale despues al botón de stop de arriba, o sino a Kernel -> Restart Kernel..."
   ]
  },
  {
   "cell_type": "code",
   "execution_count": 12,
   "metadata": {
    "id": "V6zMtMfUX5mE"
   },
   "outputs": [
    {
     "name": "stdin",
     "output_type": "stream",
     "text": [
      "write something for me To be or not to be\n"
     ]
    }
   ],
   "source": [
    "first_input = input(\"write something for me\")"
   ]
  },
  {
   "cell_type": "code",
   "execution_count": 13,
   "metadata": {
    "id": "S8p2YPurX5mE"
   },
   "outputs": [
    {
     "name": "stdout",
     "output_type": "stream",
     "text": [
      "To be or not to be\n"
     ]
    }
   ],
   "source": [
    "print(first_input)"
   ]
  },
  {
   "cell_type": "markdown",
   "metadata": {
    "id": "B3jVo8_pX5mE"
   },
   "source": [
    "Puedes poner ints, floats, strings, lo que quieras recoger en texto plano.\n",
    "\n",
    "Mira que fácil es hacer un chatbot un poco tonto, mediante el que hacemos preguntas al usuario, y almacenamos sus respuestas."
   ]
  },
  {
   "cell_type": "code",
   "execution_count": 23,
   "metadata": {},
   "outputs": [
    {
     "name": "stdin",
     "output_type": "stream",
     "text": [
      "Whats your name! Arturo\n"
     ]
    },
    {
     "name": "stdout",
     "output_type": "stream",
     "text": [
      "Pleased to meet you! Arturo\n"
     ]
    },
    {
     "name": "stdin",
     "output_type": "stream",
     "text": [
      "What do you think of this exercise? I like it!\n"
     ]
    },
    {
     "name": "stdout",
     "output_type": "stream",
     "text": [
      "Im glad you do!\n"
     ]
    }
   ],
   "source": [
    "name = input(\"Whats your name!\")\n",
    "print(\"Pleased to meet you!\", name)\n",
    "preferences = input(\"What do you think of this exercise?\")\n",
    "print(\"Im glad you do!\")"
   ]
  },
  {
   "cell_type": "markdown",
   "metadata": {
    "id": "MJqvsBd9X5mE"
   },
   "source": [
    "## None\n",
    "[al indice](#Contenidos)\n",
    "Palabra reservada en Python para designar al valor nulo. `None` no es 0, tampoco es un string vacio, ni `False`, simplemente es un tipo de datos más para representar el conjunto vacío."
   ]
  },
  {
   "cell_type": "code",
   "execution_count": 25,
   "metadata": {
    "id": "5_2zfAAXX5mF"
   },
   "outputs": [
    {
     "name": "stdout",
     "output_type": "stream",
     "text": [
      "None\n"
     ]
    }
   ],
   "source": [
    "print(None)"
   ]
  },
  {
   "cell_type": "code",
   "execution_count": 26,
   "metadata": {},
   "outputs": [
    {
     "name": "stdout",
     "output_type": "stream",
     "text": [
      "<class 'NoneType'>\n"
     ]
    }
   ],
   "source": [
    "print(type(None))"
   ]
  },
  {
   "cell_type": "code",
   "execution_count": 27,
   "metadata": {},
   "outputs": [
    {
     "data": {
      "text/plain": [
       "False"
      ]
     },
     "execution_count": 27,
     "metadata": {},
     "output_type": "execute_result"
    }
   ],
   "source": [
    "\"\" == None"
   ]
  },
  {
   "cell_type": "code",
   "execution_count": 28,
   "metadata": {},
   "outputs": [
    {
     "data": {
      "text/plain": [
       "False"
      ]
     },
     "execution_count": 28,
     "metadata": {},
     "output_type": "execute_result"
    }
   ],
   "source": [
    "False == None"
   ]
  },
  {
   "cell_type": "code",
   "execution_count": null,
   "metadata": {},
   "outputs": [],
   "source": []
  },
  {
   "cell_type": "markdown",
   "metadata": {
    "id": "Q566LqOQX5mF"
   },
   "source": [
    "## Sintaxis y best practices\n",
    "[al indice](#Contenidos)\n",
    "A la hora de escribir en Python, existen ciertas normas que hay que tener en cuenta:\n",
    "* Todo lo que abras, lo tienes que cerrar: paréntesis, llaves, corchetes...\n",
    "* Los decimales se ponen con puntos `.`\n",
    "* Best practices\n",
    "    * **Caracteres**: NO se recomienda usar Ñs, acentos o caracteres raros (ª,º,@,ç...) en el codigo. Ponerlo únicamente en los comentarios.\n",
    "    * **Espacios**: NO usar espacios en los nombres de las variables ni de las funciones. Se recomienda usar guión bajo para simular el espacio. O también juntar las palabras y usar mayuscula para diferenciarlas `miVariable`. Lo normal es todo minúscula y guiones bajos\n",
    "    * Ahora bien, sí se recomienda usar espacios entre cada comando, para facilitar la lectura, aunque esto ya es más cuestión de gustos. `mi_variable = 36`.\n",
    "    * Se suelen declarar las variables en minuscula.\n",
    "    * Las constantes (variables que no van a cambiar nunca) en mayuscula. `MI_PAIS = \"España\"`\n",
    "    * **Cada sentencia en una linea**. Se puede usar el `;` para declarar varias variables, pero no es lo habitual\n",
    "    * **Comentarios**: TODOS los que se pueda. Nunca sabes cuándo otra persona va a coger tu espectacular código, o si tu *yo* del futuro se acordará de por qué hiciste ese bucle while en vez de un for.\n",
    "    * **Case sensitive**: sensible a mayusculas y minusculas. CUIDADO con esto cuando declaremos variables o usemos Strings\n",
    "    * **Sintaxis de línea**: para una correcta lectura del codigo lo mejor es aplicar sintaxis de línea en la medida de lo posible"
   ]
  },
  {
   "cell_type": "code",
   "execution_count": 29,
   "metadata": {
    "id": "o4LxvppdX5mF"
   },
   "outputs": [],
   "source": [
    "# A esto nos referimos con sintaxis de línea\n",
    "lista_compra = ['Manzanas',\n",
    "               'Galletas',\n",
    "               'Pollo',\n",
    "               'Cereales']"
   ]
  },
  {
   "cell_type": "markdown",
   "metadata": {
    "id": "Lg0DGQliX5mF"
   },
   "source": [
    "### The Zen of Python\n",
    "Cualquier consejo que te haya podido dar hasta ahora se queda en nada comparado con los 20 principios que definió *Tim Peters* en 1999. Uno de los mayores colaboradores en la creación de este lenguaje"
   ]
  },
  {
   "cell_type": "code",
   "execution_count": null,
   "metadata": {
    "id": "KgtxkitSX5mG"
   },
   "outputs": [],
   "source": []
  },
  {
   "cell_type": "code",
   "execution_count": null,
   "metadata": {
    "id": "bvT7YcTyX5mG"
   },
   "outputs": [],
   "source": []
  },
  {
   "cell_type": "code",
   "execution_count": null,
   "metadata": {
    "id": "H0QXOiaZX5mG"
   },
   "outputs": [],
   "source": []
  }
 ],
 "metadata": {
  "colab": {
   "provenance": []
  },
  "kernelspec": {
   "display_name": "Python 3 (ipykernel)",
   "language": "python",
   "name": "python3"
  },
  "language_info": {
   "codemirror_mode": {
    "name": "ipython",
    "version": 3
   },
   "file_extension": ".py",
   "mimetype": "text/x-python",
   "name": "python",
   "nbconvert_exporter": "python",
   "pygments_lexer": "ipython3",
   "version": "3.11.7"
  }
 },
 "nbformat": 4,
 "nbformat_minor": 4
}
