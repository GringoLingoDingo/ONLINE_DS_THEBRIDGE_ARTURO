{
 "cells": [
  {
   "cell_type": "markdown",
   "metadata": {
    "id": "TFRBi4q01jS9"
   },
   "source": [
    "<img src = \"./img/TheBridge_logo_RGB_color.jpg\" width = 500>\n",
    "<img src = \"./img/python.jpg\" width = 500>"
   ]
  },
  {
   "cell_type": "markdown",
   "metadata": {
    "id": "YepBEnXQ1jTA"
   },
   "source": [
    "# Python Basics I"
   ]
  },
  {
   "cell_type": "markdown",
   "metadata": {
    "id": "OpS6YJ301jTA"
   },
   "source": [
    "# Contenidos"
   ]
  },
  {
   "cell_type": "markdown",
   "metadata": {
    "id": "LrFMS7Sh1jTA"
   },
   "source": [
    "* [Operaciones aritméticas\n",
    "](#Operaciones-aritméticas\n",
    ")\n",
    "\n",
    "* [Operaciones comparativas\n",
    "](#Operaciones-comparativas\n",
    ")\n",
    "\n"
   ]
  },
  {
   "cell_type": "markdown",
   "metadata": {
    "id": "-oD8Gmll1jTA"
   },
   "source": [
    "## Operaciones aritméticas\n",
    "[al indice](#Contenidos)  \n",
    "\n",
    "Hace un par de sesiones ya vimos por encima las principales operaciones aritméticas en Python. Las recordamos:\n",
    "* Sumar: `+`\n",
    "* Restar: `-`\n",
    "* Multiplicar: `*`\n",
    "* Dividir: `/`\n",
    "* Elevar: `**`\n",
    "* Cociente division: `//`\n",
    "* Resto de la división: `%`"
   ]
  },
  {
   "cell_type": "code",
   "execution_count": null,
   "metadata": {
    "id": "yPkT80uR1jTB"
   },
   "outputs": [],
   "source": [
    "# Declarar y asignar una variable entera\n",
    "# Declarar y asignar una variable real o float\n",
    "# Sumar las variables y mostrar el resultado\n",
    "# Mostrar de qué tipo es el resultado\n",
    "# Multiplicar ambas variables y mostrar el resultado\n",
    "# Elevar una a la otr\n",
    "# Dividir una por otra y mostrar además el resto y el cociente"
   ]
  },
  {
   "cell_type": "code",
   "execution_count": 2,
   "metadata": {
    "id": "MBAIMWuj1jTB"
   },
   "outputs": [
    {
     "name": "stdout",
     "output_type": "stream",
     "text": [
      "2 <class 'int'>\n",
      "3.14 <class 'float'>\n",
      "5.140000000000001 <class 'float'>\n",
      "6.28\n",
      "0.6369426751592356 \n",
      " 2.0 \n",
      " 0.0\n"
     ]
    }
   ],
   "source": [
    "WholeN = 2\n",
    "print(WholeN, type(WholeN))\n",
    "RealN = 3.14\n",
    "print(RealN, type(RealN))\n",
    "AddN = WholeN + RealN\n",
    "print(AddN, type(AddN))\n",
    "MultN = WholeN * RealN\n",
    "print(MultN)\n",
    "PowerN = WholeN ** RealN\n",
    "DivisN = WholeN / RealN\n",
    "Cogent = WholeN // RealN\n",
    "Rest = WholeN % RealN\n",
    "print(DivisN, \"\\n\",Rest,\"\\n\", Cogent)\n",
    "\n"
   ]
  },
  {
   "cell_type": "markdown",
   "metadata": {
    "id": "7fBXbkvf1jTC"
   },
   "source": [
    "### Propiedad conmutativa, asociativa, distributiva y el paréntesis\n",
    "Si queremos concatenar varias operaciones, ten siempre en cuenta las propiedades matemáticas de la multiplicación"
   ]
  },
  {
   "cell_type": "code",
   "execution_count": null,
   "metadata": {
    "id": "73N5iBZf1jTC"
   },
   "outputs": [],
   "source": [
    "print(\"Conmutativa\")\n",
    "print(2 * 3)\n",
    "print(3 * 2)\n",
    "\n",
    "print(\"\\nAsociativa\") # Recuerda que \"\\n\" se usa para que haya un salto de linea en el output.\n",
    "print((3 * 2) * 5)\n",
    "print(3 * (2 * 5))\n",
    "\n",
    "print(\"\\nDistributiva\")\n",
    "print(2 * (3 + 5))\n",
    "print(2 * 3 + 2 * 5)\n",
    "\n",
    "print(\"\\nEl Orden de operaciones se mantiene. Siempre podemos usar paréntesis\")\n",
    "print(2 * (2 + 3) * 5)\n",
    "print((2 * 2 + 3 * 5)/(4 + 7))"
   ]
  },
  {
   "cell_type": "markdown",
   "metadata": {
    "id": "2Im8pP811jTC"
   },
   "source": [
    "### Operaciones más complejas\n",
    "Si salimos de las operaciones básicas de Python, tendremos que importar módulos con más funcionalidades en nuestro código. Esto lo haremos mediante la sentencia `import math`. `math` es un módulo con funciones ya predefinidas, que no vienen por defecto en el núcleo de Python. De esta forma será posible hacer cálculos más complejos como:\n",
    "\n",
    "* Raíz cuadrada\n",
    "* Seno/Coseno\n",
    "* Valor absoluto\n",
    "*...\n",
    "\n",
    "El módulo es completísimo y si estás buscando alguna operación matemática, lo más seguro es que ya esté implementada. Te dejo por aquí el [link a la documentación del módulo.](https://docs.python.org/3/library/math.html)."
   ]
  },
  {
   "cell_type": "code",
   "execution_count": 5,
   "metadata": {
    "id": "MiPLxQyJ1jTC"
   },
   "outputs": [
    {
     "name": "stdout",
     "output_type": "stream",
     "text": [
      "5.0\n",
      "1.0\n",
      "123.45\n"
     ]
    }
   ],
   "source": [
    "import math\n",
    "print(math.sqrt(25))\n",
    "print(math.cos(0))\n",
    "print(math.fabs(-123.45)) #Absolute Value"
   ]
  },
  {
   "cell_type": "markdown",
   "metadata": {
    "id": "-KX0cNzB1jTC"
   },
   "source": [
    "Como en todos los lenguajes de programación, suele haber una serie de componentes básicos (variables, operaciones aritméticas, tipos de datos...) con los que podemos hacer muchas cosas. Ahora bien, si queremos ampliar esas funcionalidades, se suelen importar nuevos módulos, con funciones ya hechas de otros usuarios, como en el caso del módulo `math`. Veremos esto de los módulos más adelante."
   ]
  },
  {
   "cell_type": "markdown",
   "metadata": {
    "id": "Z5ASMvgP1jTD"
   },
   "source": [
    "<table align=\"left\">\n",
    " <tr><td width=\"80\"><img src=\"./img/error.png\" style=\"width:auto;height:auto\"></td>\n",
    "     <td style=\"text-align:left\">\n",
    "         <h3>ERRORES Dividir por cero</h3>\n",
    "         \n",
    " </td></tr>\n",
    "</table>"
   ]
  },
  {
   "cell_type": "markdown",
   "metadata": {
    "id": "Y5IjKFbS1jTD"
   },
   "source": [
    "Cuidado cuando operamos con 0s. Las indeterminaciones y valores infinitos suponen errores en el código. Por suerte, la descripción de estos errores es bastante explícita, obteniendo un error de tipo `ZeroDivisionError`"
   ]
  },
  {
   "cell_type": "code",
   "execution_count": 6,
   "metadata": {
    "id": "Zdvo-o9y1jTD"
   },
   "outputs": [
    {
     "ename": "ZeroDivisionError",
     "evalue": "division by zero",
     "output_type": "error",
     "traceback": [
      "\u001b[31m---------------------------------------------------------------------------\u001b[39m",
      "\u001b[31mZeroDivisionError\u001b[39m                         Traceback (most recent call last)",
      "\u001b[36mCell\u001b[39m\u001b[36m \u001b[39m\u001b[32mIn[6]\u001b[39m\u001b[32m, line 1\u001b[39m\n\u001b[32m----> \u001b[39m\u001b[32m1\u001b[39m \u001b[32;43m4\u001b[39;49m\u001b[43m/\u001b[49m\u001b[32;43m0\u001b[39;49m\n",
      "\u001b[31mZeroDivisionError\u001b[39m: division by zero"
     ]
    }
   ],
   "source": [
    "4/0"
   ]
  },
  {
   "cell_type": "code",
   "execution_count": 7,
   "metadata": {},
   "outputs": [
    {
     "ename": "NameError",
     "evalue": "name 'variable_A' is not defined",
     "output_type": "error",
     "traceback": [
      "\u001b[31m---------------------------------------------------------------------------\u001b[39m",
      "\u001b[31mNameError\u001b[39m                                 Traceback (most recent call last)",
      "\u001b[36mCell\u001b[39m\u001b[36m \u001b[39m\u001b[32mIn[7]\u001b[39m\u001b[32m, line 1\u001b[39m\n\u001b[32m----> \u001b[39m\u001b[32m1\u001b[39m \u001b[43mvariable_A\u001b[49m/variable_B \u001b[38;5;66;03m#common error is that our equation variable_A/variable_b are influenced by other factors, if a variable hits 0 issues occur-\u001b[39;00m\n",
      "\u001b[31mNameError\u001b[39m: name 'variable_A' is not defined"
     ]
    }
   ],
   "source": [
    "variable_A/variable_B #common error is that our equation variable_A/variable_b are influenced by other factors, if a variable hits 0 issues occur-\n"
   ]
  },
  {
   "cell_type": "code",
   "execution_count": null,
   "metadata": {
    "id": "fmHiVll41jTD"
   },
   "outputs": [],
   "source": [
    "# Hay valores que se salen del dominio de algunas funciones matemáticas,\n",
    "# como es el caso de las raices de números negativos\n"
   ]
  },
  {
   "cell_type": "code",
   "execution_count": 8,
   "metadata": {
    "id": "eBHgj7-C1jTD"
   },
   "outputs": [
    {
     "ename": "ValueError",
     "evalue": "math domain error",
     "output_type": "error",
     "traceback": [
      "\u001b[31m---------------------------------------------------------------------------\u001b[39m",
      "\u001b[31mValueError\u001b[39m                                Traceback (most recent call last)",
      "\u001b[36mCell\u001b[39m\u001b[36m \u001b[39m\u001b[32mIn[8]\u001b[39m\u001b[32m, line 1\u001b[39m\n\u001b[32m----> \u001b[39m\u001b[32m1\u001b[39m \u001b[43mmath\u001b[49m\u001b[43m.\u001b[49m\u001b[43msqrt\u001b[49m\u001b[43m(\u001b[49m\u001b[43m-\u001b[49m\u001b[32;43m12\u001b[39;49m\u001b[43m)\u001b[49m\n",
      "\u001b[31mValueError\u001b[39m: math domain error"
     ]
    }
   ],
   "source": [
    "math.sqrt(-12)"
   ]
  },
  {
   "cell_type": "markdown",
   "metadata": {
    "id": "wZpWYkQW1jTD"
   },
   "source": [
    "## Operaciones comparativas\n",
    "[al indice](#Contenidos)  \n",
    "\n",
    "Es bastante intuitivo comparar valores en Python. La sintaxis es la siguiente:\n",
    "* `==`: Igualdad. No es un `=`. Hay que diferenciar entre una comparativa, y una asignación de valores\n",
    "* `!=`: Desigualdad\n",
    "* `>`: Mayor que\n",
    "* `<`: Menor que\n",
    "* `>=`: Mayor o igual que\n",
    "* `<=`: Menor o igual que"
   ]
  },
  {
   "cell_type": "markdown",
   "metadata": {
    "id": "sw7ylMi_1jTD"
   },
   "source": [
    "En la asignación estamos diciendole a Python que la variable `asign` vale 1, mientras que en la comparación, estamos preguntando a Python si `a` equivale a 5. Como vale 1, nos devuelve un `False`"
   ]
  },
  {
   "cell_type": "code",
   "execution_count": 11,
   "metadata": {
    "id": "2WeYbFG61jTD"
   },
   "outputs": [
    {
     "name": "stdout",
     "output_type": "stream",
     "text": [
      "1\n",
      "False\n"
     ]
    }
   ],
   "source": [
    "#Assign with the \"=\" sign, compare with two \"=\" signs eg.\"==\"\n",
    "\n",
    "assign = 1\n",
    "print(assign)\n",
    "\n",
    "print(assign == 5)"
   ]
  },
  {
   "cell_type": "markdown",
   "metadata": {
    "id": "73cqIAzO1jTD"
   },
   "source": [
    "Veamos otros ejemplos de comparaciones"
   ]
  },
  {
   "cell_type": "code",
   "execution_count": 16,
   "metadata": {
    "id": "eavyTPWA1jTD"
   },
   "outputs": [
    {
     "name": "stdout",
     "output_type": "stream",
     "text": [
      "False\n",
      "True\n",
      "True\n",
      "True\n",
      "False\n"
     ]
    }
   ],
   "source": [
    "print(\"AAA\" == \"BBB\")\n",
    "print(\"AAA\" == \"AAA\")\n",
    "print(93 > 12)\n",
    "print(1 == 1.0)\n",
    "print(93 <= 12)"
   ]
  },
  {
   "cell_type": "markdown",
   "metadata": {
    "id": "N4gzq3n01jTD"
   },
   "source": [
    "<table align=\"left\">\n",
    " <tr><td width=\"80\"><img src=\"./img/error.png\" style=\"width:auto;height:auto\"></td>\n",
    "     <td style=\"text-align:left\">\n",
    "         <h3>ERRORES en comparativas</h3>\n",
    "         \n",
    " </td></tr>\n",
    "</table>"
   ]
  },
  {
   "cell_type": "markdown",
   "metadata": {
    "id": "H0uJsCm01jTD"
   },
   "source": [
    "Este tipo de errores son muy comunes, pues es muy habitual comparar peras con manzanas. Cuando se trata de una igualdad (`==`), no suele haber problemas, ya que si las variables son de distinto tipo, simplemente es `False`. Lo ideal sería que Python nos avisase de estas cosas porque realmente lo estamos haciendo mal, no estamos comparando cosas del mismo tipo"
   ]
  },
  {
   "cell_type": "code",
   "execution_count": 19,
   "metadata": {
    "id": "PIvBzGEG1jTE"
   },
   "outputs": [
    {
     "name": "stdout",
     "output_type": "stream",
     "text": [
      "False\n",
      "False\n"
     ]
    }
   ],
   "source": [
    "print(1 == \"1\")\n",
    "print(\"Hello\" == True)"
   ]
  },
  {
   "cell_type": "code",
   "execution_count": null,
   "metadata": {
    "id": "4vpquKlH1jTE"
   },
   "outputs": [],
   "source": [
    "# Obtenemos un TypeError cuando la comparativa es de > o <\n"
   ]
  },
  {
   "cell_type": "code",
   "execution_count": 20,
   "metadata": {
    "id": "J7epvpfI1jTE"
   },
   "outputs": [
    {
     "ename": "TypeError",
     "evalue": "'>=' not supported between instances of 'str' and 'int'",
     "output_type": "error",
     "traceback": [
      "\u001b[31m---------------------------------------------------------------------------\u001b[39m",
      "\u001b[31mTypeError\u001b[39m                                 Traceback (most recent call last)",
      "\u001b[36mCell\u001b[39m\u001b[36m \u001b[39m\u001b[32mIn[20]\u001b[39m\u001b[32m, line 1\u001b[39m\n\u001b[32m----> \u001b[39m\u001b[32m1\u001b[39m \u001b[38;5;28mprint\u001b[39m(\u001b[33;43m\"\u001b[39;49m\u001b[33;43m17\u001b[39;49m\u001b[33;43m\"\u001b[39;49m\u001b[43m \u001b[49m\u001b[43m>\u001b[49m\u001b[43m=\u001b[49m\u001b[43m \u001b[49m\u001b[32;43m23\u001b[39;49m)\n",
      "\u001b[31mTypeError\u001b[39m: '>=' not supported between instances of 'str' and 'int'"
     ]
    }
   ],
   "source": [
    "print(\"17\" >= 23)"
   ]
  },
  {
   "cell_type": "code",
   "execution_count": null,
   "metadata": {
    "id": "EhS5NCC01jTE"
   },
   "outputs": [],
   "source": []
  }
 ],
 "metadata": {
  "colab": {
   "provenance": []
  },
  "kernelspec": {
   "display_name": "Python 3 (ipykernel)",
   "language": "python",
   "name": "python3"
  },
  "language_info": {
   "codemirror_mode": {
    "name": "ipython",
    "version": 3
   },
   "file_extension": ".py",
   "mimetype": "text/x-python",
   "name": "python",
   "nbconvert_exporter": "python",
   "pygments_lexer": "ipython3",
   "version": "3.11.7"
  }
 },
 "nbformat": 4,
 "nbformat_minor": 4
}
