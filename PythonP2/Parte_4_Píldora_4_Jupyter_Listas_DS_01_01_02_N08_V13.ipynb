{
 "cells": [
  {
   "cell_type": "markdown",
   "metadata": {
    "id": "zQu5P4Lx_LrX"
   },
   "source": [
    "<img src = \"./img/TheBridge_logo_RGB_color.jpg\" width = 500><img src = \"./img/python.jpg\" width = 500>"
   ]
  },
  {
   "cell_type": "markdown",
   "metadata": {
    "id": "fOycX5ik_Lra"
   },
   "source": [
    "# Python Basics I"
   ]
  },
  {
   "cell_type": "markdown",
   "metadata": {
    "id": "w6q5_qFQ_Lra"
   },
   "source": [
    "## Contenidos"
   ]
  },
  {
   "cell_type": "markdown",
   "metadata": {
    "id": "bhvjfxiE_Lra"
   },
   "source": [
    "* [Listas\n",
    "](#Listas\n",
    ")\n"
   ]
  },
  {
   "cell_type": "markdown",
   "metadata": {
    "id": "uf2wNvh6_Lrb"
   },
   "source": [
    "## Listas\n",
    "[al indice](#Contenidos)  \n",
    "Se trata de otro de los tipos de datos de Python más usados. Dentro de las colecciones, que veremos más adelante, la lista es la colección que normalmente se le da más uso. **Nos permiten almacenar conjuntos de variables u objetos**, y son elementos de lo más versátiles puesto que podemos almacenar objetos de distintos tipos, modificarlos, eliminarlos, meter listas dentro de listas... Sus dos caractrísticas principales son:\n",
    "* **Mutables**: una vez se ha creado la lista, se puede modificar\n",
    "* **Ordenada**: Los elementos tienen un cierto orden, lo que nos permite acceder al elemento que queramos teniendo en cuenta tal orden\n",
    "\n",
    "En cuanto a su sintaxis, cuando declaremos la lista simplemente hay que separar cada elemento con comas, y rodearlo todo con corchetes."
   ]
  },
  {
   "cell_type": "code",
   "execution_count": 2,
   "metadata": {
    "id": "08Iz_dzO_Lrb"
   },
   "outputs": [
    {
     "name": "stdout",
     "output_type": "stream",
     "text": [
      "[1, 3, 5, 6]\n",
      "<class 'list'>\n"
     ]
    }
   ],
   "source": [
    "#list of numbers\n",
    "number = [1, 3, 5, 6]\n",
    "print(number)\n",
    "print(type(number))"
   ]
  },
  {
   "cell_type": "code",
   "execution_count": 5,
   "metadata": {
    "id": "26ieud-R_Lrb"
   },
   "outputs": [
    {
     "name": "stdout",
     "output_type": "stream",
     "text": [
      "['This', 'is', 'a', 'list']\n",
      "[True, False, True, True, False, True]\n"
     ]
    }
   ],
   "source": [
    "#list of strings\n",
    "string = [\"This\", \"is\", \"a\", \"list\"]\n",
    "print(string)\n",
    "\n",
    "#list of booleans\n",
    "booleans = [True, False, True, True or False, False and False, not False]\n",
    "print(booleans)"
   ]
  },
  {
   "cell_type": "code",
   "execution_count": 15,
   "metadata": {},
   "outputs": [
    {
     "name": "stdout",
     "output_type": "stream",
     "text": [
      "['Quack', 17, 'made of', -45, False, 'variables']\n",
      "['this list', 15, 'made up of', [-45, False, 'variables']]\n"
     ]
    }
   ],
   "source": [
    "#Jumbled up mix of all of them is also possible\n",
    "mix = [\"Quack\", 17, \"made of\", -45, False, \"variables\"]\n",
    "print(mix)\n",
    "\n",
    "#Lists can contain lists\n",
    "Listception = [\"this list\", 15, \"made up of\", [-45, False, \"variables\"]]\n",
    "print(Listception)"
   ]
  },
  {
   "cell_type": "code",
   "execution_count": 11,
   "metadata": {},
   "outputs": [
    {
     "data": {
      "text/plain": [
       "4"
      ]
     },
     "execution_count": 11,
     "metadata": {},
     "output_type": "execute_result"
    }
   ],
   "source": [
    "len(Listception)"
   ]
  },
  {
   "cell_type": "code",
   "execution_count": 12,
   "metadata": {},
   "outputs": [
    {
     "data": {
      "text/plain": [
       "6"
      ]
     },
     "execution_count": 12,
     "metadata": {},
     "output_type": "execute_result"
    }
   ],
   "source": [
    "len(mix)"
   ]
  },
  {
   "cell_type": "code",
   "execution_count": 16,
   "metadata": {},
   "outputs": [
    {
     "name": "stdout",
     "output_type": "stream",
     "text": [
      "['Quack', 17, 'made of', -45, False, 'variables', 'this list', 15, 'made up of', [-45, False, 'variables']]\n",
      "<class 'list'>\n",
      "['this list', 15, 'made up of', [-45, False, 'variables'], 'Quack', 17, 'made of', -45, False, 'variables']\n",
      "<class 'list'>\n"
     ]
    }
   ],
   "source": [
    "combination = mix + Listception\n",
    "print(combination)\n",
    "print(type(combination))\n",
    "\n",
    "#changing the order of the sums will change each elements location in the index\n",
    "combination = Listception + mix\n",
    "print(combination)\n",
    "print(type(combination))"
   ]
  },
  {
   "cell_type": "markdown",
   "metadata": {
    "id": "S9sLBqTZ_Lrc"
   },
   "source": [
    "**NOTA**: ¿Ves por qué los decimales en Python siempre van con puntos y no con comas? Con las colecciones el intérprete de Python se volvería loco.\n",
    "\n",
    "Podemos ver tambien el tipo de la lista"
   ]
  },
  {
   "cell_type": "code",
   "execution_count": 17,
   "metadata": {
    "id": "A9uSK1VH_Lrc"
   },
   "outputs": [
    {
     "data": {
      "text/plain": [
       "list"
      ]
     },
     "execution_count": 17,
     "metadata": {},
     "output_type": "execute_result"
    }
   ],
   "source": [
    "type(mix)"
   ]
  },
  {
   "cell_type": "markdown",
   "metadata": {
    "id": "DRSFM9ER_Lrc"
   },
   "source": [
    "Calcular la longitud de la misma mediante el método *built-in* ya visto: `len()`"
   ]
  },
  {
   "cell_type": "code",
   "execution_count": 18,
   "metadata": {
    "id": "m2Bm00ht_Lrc"
   },
   "outputs": [
    {
     "data": {
      "text/plain": [
       "6"
      ]
     },
     "execution_count": 18,
     "metadata": {},
     "output_type": "execute_result"
    }
   ],
   "source": [
    "len(mix)"
   ]
  },
  {
   "cell_type": "markdown",
   "metadata": {
    "id": "uk__Rp8r_Lrc"
   },
   "source": [
    "Accedemos a los elemenos de la lista mediante corchetes `[]`\n",
    "\n",
    "**Importante**. El primer elemento es el 0"
   ]
  },
  {
   "cell_type": "code",
   "execution_count": 25,
   "metadata": {
    "id": "TdwQwyMn_Lrc"
   },
   "outputs": [
    {
     "name": "stdout",
     "output_type": "stream",
     "text": [
      "this\n",
      "potato\n"
     ]
    }
   ],
   "source": [
    "list_example = [\"this\", 2, 3,\"potato\"]\n",
    "print(list_example[0])\n",
    "print(list_example[-1])\n",
    "\n",
    "#this list can go back to front through each index with the negative numbers. EG -1 is the last value in the index."
   ]
  },
  {
   "cell_type": "markdown",
   "metadata": {
    "id": "x36d1UHG_Lrd"
   },
   "source": [
    "### Metodos en Listas\n",
    "Para el tipo de objeto lista, también hay una serie de métodos catacterísticos que nos permiten operar con ellas: añadir valores, quitarlos, indexado, filtrado, etc... En [este enlace](https://www.w3schools.com/python/python_ref_list.asp) puedes encontrar todos los métodos que podrás usar con listas."
   ]
  },
  {
   "cell_type": "code",
   "execution_count": 36,
   "metadata": {
    "id": "hIthIQ8C_Lrd"
   },
   "outputs": [
    {
     "name": "stdout",
     "output_type": "stream",
     "text": [
      "['Physics', 'Chemistry', 'Mathematics', 'Literature', 'Philosophy']\n",
      "['Physics', 'Physical Education', 'Chemistry', 'Mathematics', 'Literature', 'Philosophy']\n",
      "['Physics', 'Chemistry', 'Mathematics', 'Literature', 'Philosophy']\n",
      "['Physics', 'Chemistry', 'Mathematics', 'Literature']\n",
      "['Chemistry', 'Literature', 'Mathematics', 'Physics']\n"
     ]
    }
   ],
   "source": [
    "Subjects = [\"Physics\", \"Chemistry\", \"Mathematics\", \"Literature\"]\n",
    "\n",
    "#how to add an element to a list\n",
    "Subjects.append(\"Philosophy\")\n",
    "print(Subjects)\n",
    "\n",
    "#add elements in a specific location, insert requires the index number for the location of the insertion\n",
    "Subjects.insert(1, \"Physical Education\")\n",
    "print(Subjects)\n",
    "\n",
    "#Wipe the list\n",
    "#Subjects.clear()\n",
    "#print(Subjects)\n",
    "\n",
    "#Remove an element from a specific index or position\n",
    "Subjects.pop(1)\n",
    "print(Subjects)\n",
    "\n",
    "#Remove an element based on its value\n",
    "Subjects.remove(\"Philosophy\")\n",
    "print(Subjects)\n",
    "\n",
    "#Order the list\n",
    "Subjects.sort()\n",
    "print(Subjects)"
   ]
  },
  {
   "cell_type": "code",
   "execution_count": null,
   "metadata": {
    "id": "BlQCJKaL_Lrd"
   },
   "outputs": [],
   "source": []
  },
  {
   "cell_type": "code",
   "execution_count": null,
   "metadata": {
    "id": "q-YQQDhd_Lrd"
   },
   "outputs": [],
   "source": []
  }
 ],
 "metadata": {
  "colab": {
   "provenance": []
  },
  "kernelspec": {
   "display_name": "Python 3 (ipykernel)",
   "language": "python",
   "name": "python3"
  },
  "language_info": {
   "codemirror_mode": {
    "name": "ipython",
    "version": 3
   },
   "file_extension": ".py",
   "mimetype": "text/x-python",
   "name": "python",
   "nbconvert_exporter": "python",
   "pygments_lexer": "ipython3",
   "version": "3.11.7"
  }
 },
 "nbformat": 4,
 "nbformat_minor": 4
}
