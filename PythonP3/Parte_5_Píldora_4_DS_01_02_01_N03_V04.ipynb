{
 "cells": [
  {
   "cell_type": "markdown",
   "metadata": {
    "id": "97BLdeVXxjmx"
   },
   "source": [
    "![TheBridge_Python_v0.png](attachment:TheBridge_Python_v0.png)"
   ]
  },
  {
   "cell_type": "markdown",
   "metadata": {
    "id": "ZL1D3UFsxjmy"
   },
   "source": [
    "## Colecciones Python: Diccionarios\n"
   ]
  },
  {
   "cell_type": "markdown",
   "metadata": {
    "id": "_MF7B4Fixjmy"
   },
   "source": [
    "### Contenidos\n"
   ]
  },
  {
   "cell_type": "markdown",
   "metadata": {
    "id": "qIxBEfcgxjmy"
   },
   "source": [
    "* [Introducción](#Introducción)\n",
    "\n",
    "* [Acceso, modificación, añadir, eliminar](#Acceso,-modificación,-añadir,-eliminar)\n",
    "\n",
    "* [Iterar](#Iterar)\n",
    "\n"
   ]
  },
  {
   "cell_type": "markdown",
   "metadata": {
    "id": "jo--90ybxjmz"
   },
   "source": [
    "### Introducción\n",
    "[al indice](#Contenidos)  \n",
    "\n",
    "En este tipo de colecciones no solo podemos agrupar datos, sino que tenemos la posibilidad de establecer una relación entre los mismos, con la forma **clave: valor**.\n",
    "\n",
    "La sintaxis  es mediante llaves `{}`\n",
    "\n",
    "> nombre_diccionario = {clave1: valor1, clave2: valor2, clave3: valor3}\n",
    "\n",
    "Si veíamos que las listas son elementos mutables y y ordenadas, y las tuplas inmutables y ordenadas, los diccionarios son:\n",
    "\n",
    "* **Mutables**: podemos modificar sus elementos\n",
    "* **Desordenado**: la potencia de acceso de los diccionarios es su formato clave-valor, no su orden. Aun así, el dicionario conserva el orden de los elemento según los vamos insertando.\n",
    "\n",
    "Vamos a declarar un diccionario en el que definiremos elementos de un coche"
   ]
  },
  {
   "cell_type": "code",
   "execution_count": 7,
   "metadata": {
    "id": "z9LWklgnxjmz"
   },
   "outputs": [
    {
     "data": {
      "text/plain": [
       "{'colour': 'Red',\n",
       " 'brand': 'Tesla',\n",
       " 'model': 'Cybertruck',\n",
       " 'weight': 3500,\n",
       " 'Automatic': True}"
      ]
     },
     "execution_count": 7,
     "metadata": {},
     "output_type": "execute_result"
    }
   ],
   "source": [
    "car_dict = {\n",
    "        \"colour\" : \"Red\", \n",
    "        \"brand\" : \"Tesla\",\n",
    "        \"model\" : \"Cybertruck\",\n",
    "        \"weight\" : 3500,\n",
    "        \"Automatic\" : True\n",
    "}\n",
    "car_dict"
   ]
  },
  {
   "cell_type": "markdown",
   "metadata": {
    "id": "JhyY48epxjmz"
   },
   "source": [
    "Se puede almacenar todo tipo de datos: numero, cadena, booleano, listas, tuplas, diccionarios...\n",
    "\n",
    "Cuando declaremos el diccionario, lo podemos hacer en una sola linea `coche = {\"color\"=\"Gris\", \"marca\"...}`, aunque se recomienda por sencillez a la hora de leer el código, realizar esta acción en varias líneas. Si escribimos el primer elemento y presionamos enter, Jupyter introduce automáticamente la tabulación."
   ]
  },
  {
   "cell_type": "markdown",
   "metadata": {
    "id": "gw1Wzc64xjmz"
   },
   "source": [
    "### Acceso, modificación, añadir, eliminar\n",
    "[al indice](#Contenidos)  \n",
    "\n"
   ]
  },
  {
   "cell_type": "code",
   "execution_count": 28,
   "metadata": {
    "id": "LRU_9eHOxjm0"
   },
   "outputs": [
    {
     "name": "stdout",
     "output_type": "stream",
     "text": [
      "['red', 'grey']\n",
      "3500\n",
      "{'colour': ['red', 'grey'], 'brand': 'Tesla', 'model': 'Cybertruck', 'weight': 3500, 'Automatic': True}\n",
      "6\n",
      "{'colour': ['red', 'grey'], 'brand': 'Tesla', 'model': 'Cybertruck', 'weight': 3500, 'Automatic': True}\n",
      "dict_keys(['colour', 'brand', 'model', 'weight', 'Automatic'])\n",
      "dict_values([['red', 'grey'], 'Tesla', 'Cybertruck', 3500, True])\n"
     ]
    }
   ],
   "source": [
    "#Access\n",
    "print(car_dict[\"colour\"])\n",
    "print(car_dict[\"weight\"])\n",
    "\n",
    "#print(car_dict[\"Doors\"])\n",
    "\n",
    "#adding an element to a category in the list (values)\n",
    "car_dict[\"colour\"] = [\"red\", \"grey\"]\n",
    "print(car_dict)\n",
    "\n",
    "#adding a category to the list (a keyword)\n",
    "car_dict[\"doors\"] = 6\n",
    "print(car_dict[\"doors\"])\n",
    "\n",
    "#removing an element\n",
    "del car_dict[\"doors\"]\n",
    "print(car_dict)\n",
    "\n",
    "#Learn the keywords of the dictionary\n",
    "car_dict.keys()\n",
    "print(car_dict.keys())\n",
    "\n",
    "#learn the elements of the dictionary (values)\n",
    "print(car_dict.values())"
   ]
  },
  {
   "cell_type": "markdown",
   "metadata": {
    "id": "tJyQ5YRexjm0"
   },
   "source": [
    "Para más detalle de los métodos de los diccionario puedes [consultar la documentación](https://www.w3schools.com/python/python_ref_dictionary.asp)"
   ]
  },
  {
   "cell_type": "code",
   "execution_count": 29,
   "metadata": {
    "id": "tOFaBuTkxjm0"
   },
   "outputs": [
    {
     "name": "stdout",
     "output_type": "stream",
     "text": [
      "{'address': 'cathedral road', 'size': 100}\n"
     ]
    }
   ],
   "source": [
    "# Podemos empezar tambien mediante un diccionario vacío\n",
    "store = {}\n",
    "store[\"address\"] = \"cathedral road\"\n",
    "store[\"size\"] = 100\n",
    "print(store)\n"
   ]
  },
  {
   "cell_type": "markdown",
   "metadata": {
    "id": "vN83ZB12xjm0"
   },
   "source": [
    "<table align=\"left\">\n",
    " <tr>\n",
    "     <td style=\"text-align:left\">\n",
    "         <h3>ERRORES en diccionarios</h3>\n",
    "         \n",
    " </td></tr>\n",
    "</table>"
   ]
  },
  {
   "cell_type": "markdown",
   "metadata": {
    "id": "GXrtjJ50xjm0"
   },
   "source": [
    "Si hay una clave que no existe en el diccionario, saltará un error.\n",
    "\n",
    "En este caso, el error es bastante intuitivo: `KeyError`, no encuentra la clave"
   ]
  },
  {
   "cell_type": "code",
   "execution_count": 30,
   "metadata": {
    "id": "vBiPKsX0xjm0"
   },
   "outputs": [
    {
     "ename": "KeyError",
     "evalue": "'doors'",
     "output_type": "error",
     "traceback": [
      "\u001b[31m---------------------------------------------------------------------------\u001b[39m",
      "\u001b[31mKeyError\u001b[39m                                  Traceback (most recent call last)",
      "\u001b[36mCell\u001b[39m\u001b[36m \u001b[39m\u001b[32mIn[30]\u001b[39m\u001b[32m, line 1\u001b[39m\n\u001b[32m----> \u001b[39m\u001b[32m1\u001b[39m \u001b[43mcar_dict\u001b[49m\u001b[43m[\u001b[49m\u001b[33;43m\"\u001b[39;49m\u001b[33;43mdoors\u001b[39;49m\u001b[33;43m\"\u001b[39;49m\u001b[43m]\u001b[49m\n",
      "\u001b[31mKeyError\u001b[39m: 'doors'"
     ]
    }
   ],
   "source": [
    "car_dict[\"doors\"]"
   ]
  },
  {
   "cell_type": "markdown",
   "metadata": {
    "id": "Y9Rz2nc8xjm1"
   },
   "source": [
    "**¿Cómo solventar esto?** Sirmpre tienes la opción de usar el bloque `try/except`, pero en este caso, los diccionarios tienen una solución más elegante: `mi_diccionario.get(clave, valor si no existe)`"
   ]
  },
  {
   "cell_type": "code",
   "execution_count": 34,
   "metadata": {
    "id": "IHQ5S5rqxjm1"
   },
   "outputs": [
    {
     "name": "stdout",
     "output_type": "stream",
     "text": [
      "4\n",
      "Tesla\n"
     ]
    }
   ],
   "source": [
    "Number_of_doors = car_dict.get(\"doors\", 4)\n",
    "print(Number_of_doors)\n",
    "Car_brand = car_dict.get(\"brand\", \"unknown\")\n",
    "print(Car_brand)"
   ]
  },
  {
   "cell_type": "markdown",
   "metadata": {
    "id": "82TDWgjexjm1"
   },
   "source": [
    "### Iterar\n",
    "[al indice](#Contenidos)  \n",
    "\n",
    "Que el diccionario no esté ordenado, no quiere decir que no podamos iterar sus elementos, ya que también es un **interable**, como los son las listas o las tuplas."
   ]
  },
  {
   "cell_type": "code",
   "execution_count": 36,
   "metadata": {
    "id": "s39osFflxjm1"
   },
   "outputs": [
    {
     "name": "stdout",
     "output_type": "stream",
     "text": [
      "colour\n",
      "['red', 'grey']\n",
      "brand\n",
      "Tesla\n",
      "model\n",
      "Cybertruck\n",
      "weight\n",
      "3500\n",
      "Automatic\n",
      "True\n"
     ]
    }
   ],
   "source": [
    "for i in car_dict:\n",
    "    print(i)\n",
    "    print(car_dict[i])"
   ]
  },
  {
   "cell_type": "code",
   "execution_count": 37,
   "metadata": {
    "id": "z0-hMGZ7xjm1"
   },
   "outputs": [
    {
     "name": "stdout",
     "output_type": "stream",
     "text": [
      "colour : ['red', 'grey']\n",
      "brand : Tesla\n",
      "model : Cybertruck\n",
      "weight : 3500\n",
      "Automatic : True\n"
     ]
    }
   ],
   "source": [
    "for i in car_dict:\n",
    "    print(i,\":\", car_dict[i])"
   ]
  },
  {
   "cell_type": "code",
   "execution_count": 38,
   "metadata": {},
   "outputs": [
    {
     "data": {
      "text/plain": [
       "dict_items([('colour', ['red', 'grey']), ('brand', 'Tesla'), ('model', 'Cybertruck'), ('weight', 3500), ('Automatic', True)])"
      ]
     },
     "execution_count": 38,
     "metadata": {},
     "output_type": "execute_result"
    }
   ],
   "source": [
    "car_dict.items()"
   ]
  },
  {
   "cell_type": "code",
   "execution_count": 42,
   "metadata": {},
   "outputs": [
    {
     "name": "stdout",
     "output_type": "stream",
     "text": [
      "colour : ['red', 'grey']\n",
      "brand : Tesla\n",
      "model : Cybertruck\n",
      "weight : 3500\n",
      "Automatic : True\n"
     ]
    }
   ],
   "source": [
    "for key,value, in car_dict.items():\n",
    "    print(key,\":\",value)"
   ]
  },
  {
   "cell_type": "code",
   "execution_count": null,
   "metadata": {},
   "outputs": [],
   "source": []
  }
 ],
 "metadata": {
  "colab": {
   "provenance": []
  },
  "kernelspec": {
   "display_name": "Python 3 (ipykernel)",
   "language": "python",
   "name": "python3"
  },
  "language_info": {
   "codemirror_mode": {
    "name": "ipython",
    "version": 3
   },
   "file_extension": ".py",
   "mimetype": "text/x-python",
   "name": "python",
   "nbconvert_exporter": "python",
   "pygments_lexer": "ipython3",
   "version": "3.11.7"
  }
 },
 "nbformat": 4,
 "nbformat_minor": 4
}
