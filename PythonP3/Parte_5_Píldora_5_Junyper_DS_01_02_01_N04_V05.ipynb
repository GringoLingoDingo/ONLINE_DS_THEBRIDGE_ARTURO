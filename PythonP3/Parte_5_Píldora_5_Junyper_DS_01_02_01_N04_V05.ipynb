{
 "cells": [
  {
   "cell_type": "markdown",
   "metadata": {
    "id": "IVat0oT5-nPf"
   },
   "source": [
    "![TheBridge_Python_v0.png](attachment:TheBridge_Python_v0.png)"
   ]
  },
  {
   "cell_type": "markdown",
   "metadata": {
    "id": "mnNpD-ym-nPg"
   },
   "source": [
    "## Colecciones Python: Sets\n"
   ]
  },
  {
   "cell_type": "markdown",
   "metadata": {
    "id": "OlnkOVWK-nPg"
   },
   "source": [
    "### Contenidos\n"
   ]
  },
  {
   "cell_type": "markdown",
   "metadata": {
    "id": "4czKDdPj-nPg"
   },
   "source": [
    "* [Introducción](#Introducción)\n",
    "\n"
   ]
  },
  {
   "cell_type": "markdown",
   "metadata": {
    "id": "-weCphRo-nPh"
   },
   "source": [
    "### Introducción\n",
    "[al indice](#Contenidos)  \n",
    "\n",
    "Otra colección *bulit-in* de Python, compuesta por un conjunto de *valores*. Muy parecidos a las listas. Tienen las siguientes características:\n",
    "* **Mutables**: podemos modificarlos una vez se hayan creado\n",
    "* **No ordenado**\n",
    "* **Elementos unicos**: se compone de un conjunto de valores únicas\n",
    "\n",
    "**¿Cuándo usar sets?** Cuando estemos buscando unicidad en nuestros datos y no nos importe el orden.\n",
    "\n",
    "Te dejo por aquí [la documentación](https://docs.python.org/2/library/sets.html) para realizar consultas sobre los sets\n",
    "\n",
    "Si sintaxis es:\n",
    ">```Python\n",
    "> mi_set = {elemento1, elemento2, elemento3}\n",
    ">```\n",
    "\n",
    "Tiene una sintaxis muy parecida a la de las listas, pero en este caso no se utilizan los `{}`."
   ]
  },
  {
   "cell_type": "code",
   "execution_count": 4,
   "metadata": {
    "id": "JIIngdr2-nPh"
   },
   "outputs": [
    {
     "name": "stdout",
     "output_type": "stream",
     "text": [
      "{'yellow', 'green', 'blue', 'orange'}\n",
      "<class 'set'>\n"
     ]
    }
   ],
   "source": [
    "colour_set = {\"blue\", \"green\", \"orange\", \"yellow\", \"green\", \"blue\"}\n",
    "print(colour_set)\n",
    "print(type(colour_set))"
   ]
  },
  {
   "cell_type": "markdown",
   "metadata": {
    "id": "vS6hNLsS-nPh"
   },
   "source": [
    "Los elementos del set son unicos, por lo que si en la declaración, o posteriormente añadiendo elementos hubiese algún duplicado, el set lo ignoraría. Es más, cuando aplicas el `len`, muestra la cantidad de valores únicos que tiene."
   ]
  },
  {
   "cell_type": "code",
   "execution_count": 14,
   "metadata": {
    "id": "3RjW5Caq-nPh"
   },
   "outputs": [
    {
     "name": "stdout",
     "output_type": "stream",
     "text": [
      "{'green', 'blue', 'maroon', 'Lilac', 'yellow', 'magenta', 'aquamarine'}\n",
      "{'green', 'blue', 'maroon', 'Lilac', 'yellow', 'magenta', 'aquamarine'}\n",
      "{'green', 'blue', 'maroon', 'Lilac', 'magenta', 'aquamarine'}\n",
      "green\n",
      "blue\n",
      "maroon\n",
      "Lilac\n",
      "magenta\n",
      "aquamarine\n"
     ]
    }
   ],
   "source": [
    "#add values to sets\n",
    "colour_set.add(\"magenta\")\n",
    "print(colour_set)\n",
    "\n",
    "#add list to set\n",
    "colour_set.update([\"Lilac\",\"maroon\", \"aquamarine\"])\n",
    "print(colour_set)\n",
    "\n",
    "colour_set.remove(\"yellow\")\n",
    "print(colour_set)\n",
    "\n",
    "for colour in colour_set:\n",
    "    print(colour)"
   ]
  },
  {
   "cell_type": "markdown",
   "metadata": {
    "id": "-UhFF2CQ-nPi"
   },
   "source": [
    "Para comprobar si dos sets tienen los mismos elementos"
   ]
  },
  {
   "cell_type": "code",
   "execution_count": 19,
   "metadata": {
    "id": "pOrzqXvv-nPi"
   },
   "outputs": [
    {
     "data": {
      "text/plain": [
       "True"
      ]
     },
     "execution_count": 19,
     "metadata": {},
     "output_type": "execute_result"
    }
   ],
   "source": [
    "set1 = {5,2,5,2,7}\n",
    "set2 = {2,5,7,}\n",
    "set1 == set2\n",
    "#ALL VALUES ARE THE SAME, EVEN IF SET 1 HAS REPEATED VALUES"
   ]
  },
  {
   "cell_type": "code",
   "execution_count": 24,
   "metadata": {},
   "outputs": [
    {
     "name": "stdout",
     "output_type": "stream",
     "text": [
      "{100, 200, 330, 47, 88}\n",
      "[100, 200, 330, 47, 88]\n",
      "[100, 200, 330, 47, 88, 100, 330]\n"
     ]
    }
   ],
   "source": [
    "List_with = [100,200,330,47,88,100,330]\n",
    "print(set(List_with))\n",
    "print(list(set(List_with)))\n",
    "list_with = list(set(List_with))\n",
    "print(List_with)"
   ]
  },
  {
   "cell_type": "code",
   "execution_count": null,
   "metadata": {},
   "outputs": [],
   "source": []
  }
 ],
 "metadata": {
  "colab": {
   "provenance": []
  },
  "kernelspec": {
   "display_name": "Python 3 (ipykernel)",
   "language": "python",
   "name": "python3"
  },
  "language_info": {
   "codemirror_mode": {
    "name": "ipython",
    "version": 3
   },
   "file_extension": ".py",
   "mimetype": "text/x-python",
   "name": "python",
   "nbconvert_exporter": "python",
   "pygments_lexer": "ipython3",
   "version": "3.11.7"
  }
 },
 "nbformat": 4,
 "nbformat_minor": 4
}
