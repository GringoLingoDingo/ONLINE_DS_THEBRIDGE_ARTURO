{
 "cells": [
  {
   "cell_type": "markdown",
   "metadata": {
    "id": "0xUbXqO6j2Me"
   },
   "source": [
    "![TheBridge_Python_v0.png](attachment:TheBridge_Python_v0.png)"
   ]
  },
  {
   "cell_type": "markdown",
   "metadata": {
    "id": "HhqetqlRj2Mf"
   },
   "source": [
    "##  Colecciones Python: Tuplas\n"
   ]
  },
  {
   "cell_type": "markdown",
   "metadata": {
    "id": "lk88dQZ0j2Mf"
   },
   "source": [
    "### Contenidos\n"
   ]
  },
  {
   "cell_type": "markdown",
   "metadata": {
    "id": "7o5ViAZ0j2Mg"
   },
   "source": [
    "* [Introducción](#Introducción)\n",
    "\n",
    "* [Listas y tuplas](#Listas-y-tuplas)\n",
    "\n"
   ]
  },
  {
   "cell_type": "markdown",
   "metadata": {
    "id": "k_EACy5kj2Mh"
   },
   "source": [
    "### Introducción\n",
    "[al indice](#Contenidos)  \n",
    "\n",
    "Muy similares a las listas. Si en Notebooks anteriores definíamos a las listas como ordenadas y mutables, las tuplas son ordenadas e inmutables.\n",
    "\n",
    "* **Inmutables**: una vez creada la tupla con sus elementos iniciales, no se puede modificar\n",
    "* **Ordenadas**: podemos acceder a sus elementos a través del indice y reordenar la tupla según queramos\n",
    "\n",
    "Las tuplas se suelen usar para pequeñas colecciones de datos que no van a cambiar a lo largo del programa, como es el caso de las constantes.\n",
    "\n",
    "Si las listas se construían mediante corchetes `[]`, las tuplas lo hacen con los paréntesis `()`"
   ]
  },
  {
   "cell_type": "code",
   "execution_count": 2,
   "metadata": {
    "id": "m3HPzxL5j2Mi"
   },
   "outputs": [
    {
     "name": "stdout",
     "output_type": "stream",
     "text": [
      "(3, 'Text')\n",
      "<class 'tuple'>\n"
     ]
    }
   ],
   "source": [
    "tupla_example = (3, \"Text\")\n",
    "print(tupla_example)\n",
    "print(type(tupla_example))"
   ]
  },
  {
   "cell_type": "code",
   "execution_count": 4,
   "metadata": {
    "id": "PL1ys-t2j2Ml"
   },
   "outputs": [
    {
     "name": "stdout",
     "output_type": "stream",
     "text": [
      "The first element is 3\n",
      "The second element is Text\n"
     ]
    }
   ],
   "source": [
    "print(\"The first element is\", tupla_example[0])\n",
    "print(\"The second element is\", tupla_example[1])"
   ]
  },
  {
   "cell_type": "markdown",
   "metadata": {
    "id": "zj_GqZrDj2Mj"
   },
   "source": [
    "Los paréntesis ya se usan para reordenar operaciones `5 * (3 + 4)`, por lo que hay que añadir una coma cuando definamos una tupla con un único elemento, sino Python lo interpretará como un número."
   ]
  },
  {
   "cell_type": "code",
   "execution_count": 7,
   "metadata": {
    "id": "E_mvlT4sj2Mm"
   },
   "outputs": [
    {
     "name": "stdout",
     "output_type": "stream",
     "text": [
      "<class 'int'> 24\n",
      "<class 'tuple'> (24,)\n"
     ]
    }
   ],
   "source": [
    "bad_tupla = (24)\n",
    "print(type(bad_tupla), bad_tupla)\n",
    "good_tupla =(24,)\n",
    "print(type(good_tupla), good_tupla)"
   ]
  },
  {
   "cell_type": "code",
   "execution_count": 9,
   "metadata": {},
   "outputs": [
    {
     "name": "stdout",
     "output_type": "stream",
     "text": [
      "(1, 2, 3, ('A', 'B', 'C'))\n",
      "<class 'tuple'>\n"
     ]
    }
   ],
   "source": [
    "#We can insert tuples inside of tuples\n",
    "Tuple_addition = (1,2,3, (\"A\",\"B\",\"C\"))\n",
    "print(Tuple_addition)\n",
    "print(type(Tuple_addition))"
   ]
  },
  {
   "cell_type": "code",
   "execution_count": 10,
   "metadata": {},
   "outputs": [
    {
     "name": "stdout",
     "output_type": "stream",
     "text": [
      "3\n",
      "B\n"
     ]
    }
   ],
   "source": [
    "print(Tuple_addition[2])\n",
    "print(Tuple_addition[3][1])"
   ]
  },
  {
   "cell_type": "code",
   "execution_count": 12,
   "metadata": {
    "scrolled": true
   },
   "outputs": [
    {
     "name": "stdout",
     "output_type": "stream",
     "text": [
      "1\n",
      "2\n",
      "3\n",
      "('A', 'B', 'C')\n"
     ]
    }
   ],
   "source": [
    "#You can iterate upon these values with a for loop\n",
    "for i in Tuple_addition:\n",
    "    print(i)"
   ]
  },
  {
   "cell_type": "code",
   "execution_count": 14,
   "metadata": {},
   "outputs": [
    {
     "name": "stdout",
     "output_type": "stream",
     "text": [
      "(3, ('A', 'B', 'C'))\n"
     ]
    }
   ],
   "source": [
    "#Slicing\n",
    "Tuple_Slice = (Tuple_addition[2:])\n",
    "print(Tuple_Slice)"
   ]
  },
  {
   "cell_type": "markdown",
   "metadata": {
    "id": "uQ6tf4D8j2Mm"
   },
   "source": [
    "<table align=\"left\">\n",
    " <tr>\n",
    "     <td style=\"text-align:left\">\n",
    "         <h3>ERRORES tuplas</h3>\n",
    "         \n",
    " </td></tr>\n",
    "</table>"
   ]
  },
  {
   "cell_type": "markdown",
   "metadata": {
    "id": "ppW7rLLtj2Mm"
   },
   "source": [
    "Cuidado que las tuplas son inmutables, y una vez creadas no las podrás modificar después"
   ]
  },
  {
   "cell_type": "code",
   "execution_count": 15,
   "metadata": {
    "id": "HIrxx6VNj2Mm"
   },
   "outputs": [
    {
     "ename": "TypeError",
     "evalue": "'tuple' object does not support item assignment",
     "output_type": "error",
     "traceback": [
      "\u001b[31m---------------------------------------------------------------------------\u001b[39m",
      "\u001b[31mTypeError\u001b[39m                                 Traceback (most recent call last)",
      "\u001b[36mCell\u001b[39m\u001b[36m \u001b[39m\u001b[32mIn[15]\u001b[39m\u001b[32m, line 2\u001b[39m\n\u001b[32m      1\u001b[39m tuple_error = (\u001b[32m1\u001b[39m,\u001b[32m2\u001b[39m,\u001b[32m3\u001b[39m,\u001b[32m4\u001b[39m,\u001b[32m5\u001b[39m)\n\u001b[32m----> \u001b[39m\u001b[32m2\u001b[39m \u001b[43mtuple_error\u001b[49m\u001b[43m[\u001b[49m\u001b[32;43m3\u001b[39;49m\u001b[43m]\u001b[49m = \u001b[32m23\u001b[39m\n",
      "\u001b[31mTypeError\u001b[39m: 'tuple' object does not support item assignment"
     ]
    }
   ],
   "source": [
    "tuple_error = (1,2,3,4,5)\n",
    "tuple_error[3] = 23"
   ]
  },
  {
   "cell_type": "code",
   "execution_count": 19,
   "metadata": {
    "id": "K-eQJ6bcj2Mm"
   },
   "outputs": [
    {
     "name": "stdout",
     "output_type": "stream",
     "text": [
      "(1, 2, 3, 4, 5, 6)\n",
      "(1, 2, 3, 4, 5, 6)\n",
      "(1, 2, 3, 4, 5, 6)\n",
      "(1, 2, 3, 4, 5, 6, 4, 5, 6)\n"
     ]
    }
   ],
   "source": [
    "# Si queremos añadir elementos, podemos meterlos en otra tupla y sumarlas para que se concatenen\n",
    "Tuple_1 = (1,2,3)\n",
    "Tuple_2 = (4,5,6)\n",
    "print(Tuple_1 + Tuple_2)\n",
    "Tuple_3 = Tuple_1 + Tuple_2\n",
    "Tuple_1 = Tuple_1 + Tuple_2\n",
    "print(Tuple_3)\n",
    "print(Tuple_1)\n",
    "Tuple_3 = Tuple_1 + Tuple_2\n",
    "print(Tuple_3)"
   ]
  },
  {
   "cell_type": "markdown",
   "metadata": {
    "id": "BmJSTmfbj2Mn"
   },
   "source": [
    "### Listas y tuplas\n",
    "[al indice](#Contenidos)  \n",
    "\n",
    "Podemos combinar listas y tuplas que no tendremos ningún problema, siempre y cuando respetemos las propiedades de cada tipo de dato."
   ]
  },
  {
   "cell_type": "code",
   "execution_count": 20,
   "metadata": {
    "id": "2_aV1z9Ej2Mn"
   },
   "outputs": [
    {
     "name": "stdout",
     "output_type": "stream",
     "text": [
      "('Strawberries', [['Strawberries', ('Oranges', 'Lemons'), 'Kiwis']], 'Kiwis')\n"
     ]
    }
   ],
   "source": [
    "list_example = [\"Strawberries\", (\"Oranges\",\"Lemons\"), \"Kiwis\"]\n",
    "tuple_list = (\"Strawberries\", [list_example], \"Kiwis\")\n",
    "print(tuple_list)"
   ]
  },
  {
   "cell_type": "code",
   "execution_count": null,
   "metadata": {
    "id": "VsxjKI0sj2Mn"
   },
   "outputs": [],
   "source": []
  }
 ],
 "metadata": {
  "colab": {
   "provenance": []
  },
  "kernelspec": {
   "display_name": "Python 3 (ipykernel)",
   "language": "python",
   "name": "python3"
  },
  "language_info": {
   "codemirror_mode": {
    "name": "ipython",
    "version": 3
   },
   "file_extension": ".py",
   "mimetype": "text/x-python",
   "name": "python",
   "nbconvert_exporter": "python",
   "pygments_lexer": "ipython3",
   "version": "3.11.7"
  }
 },
 "nbformat": 4,
 "nbformat_minor": 4
}
