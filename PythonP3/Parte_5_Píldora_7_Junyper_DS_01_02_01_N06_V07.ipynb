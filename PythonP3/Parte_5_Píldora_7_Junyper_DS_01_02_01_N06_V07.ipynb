{
 "cells": [
  {
   "cell_type": "markdown",
   "metadata": {
    "id": "WrH6Rq5VilEu"
   },
   "source": [
    "![TheBridge_Python_v0.png](attachment:TheBridge_Python_v0.png)"
   ]
  },
  {
   "cell_type": "markdown",
   "metadata": {
    "id": "j5d4-DP2ilEv"
   },
   "source": [
    "##  Funciones de usuario II"
   ]
  },
  {
   "cell_type": "markdown",
   "metadata": {
    "id": "VllecDb6ilEv"
   },
   "source": [
    "### Contenidos"
   ]
  },
  {
   "cell_type": "markdown",
   "metadata": {
    "id": "y9CV_OCuilEw"
   },
   "source": [
    "* [Return](#Return)\n",
    "\n",
    "* [Tipos de datos de los argumentos](#Tipos-de-datos-de-los-argumentos)\n",
    "\n",
    "* [Errores típicos con funciones](#Errores-típicos-con-funciones)\n",
    "\n"
   ]
  },
  {
   "cell_type": "markdown",
   "metadata": {
    "id": "lhMz446MilEw"
   },
   "source": [
    "### Return\n",
    "[al indice](#Contenidos)  \n",
    "\n",
    "\n",
    "Continuamos con las funciones definidas por el usuario. Recuerda que la sintaxis que vimos en el anterior notebook era:\n",
    "\n",
    "\n",
    "> ```Python\n",
    "> def nombre_funcion(entrada):\n",
    ">    operaciones varias\n",
    ">    return output\n",
    "> ```\n",
    "\n",
    "Hicimos un ejemplo de función que nos devolvía un resultado (output) que podíamos almacenar en una variable... pero las funciones **tampoco tienen por qué llevar un `return`**. No siempre es necesario un output. En tal caso, devuelve `None`"
   ]
  },
  {
   "cell_type": "code",
   "execution_count": 2,
   "metadata": {
    "id": "ifa6ix79ilEw"
   },
   "outputs": [],
   "source": [
    "from datetime import datetime\n",
    "\n",
    "def que_hora_es():\n",
    "    now = datetime.now().time()\n",
    "    print(now)\n"
   ]
  },
  {
   "cell_type": "code",
   "execution_count": 3,
   "metadata": {},
   "outputs": [
    {
     "name": "stdout",
     "output_type": "stream",
     "text": [
      "17:17:59.840554\n",
      "<class 'NoneType'>\n"
     ]
    }
   ],
   "source": [
    "HOUR = que_hora_es()\n",
    "print(type(HOUR))"
   ]
  },
  {
   "cell_type": "code",
   "execution_count": 6,
   "metadata": {},
   "outputs": [],
   "source": [
    "#print(now) does not exist as it is nested within a function"
   ]
  },
  {
   "cell_type": "markdown",
   "metadata": {
    "id": "j8Wd78pfilEx"
   },
   "source": [
    "También **puedes poner varias salidas en el return**. En ese caso, si no se especifica nada más la salida de la función será de tipo \"tupla\" (tuple). Pero generalmente los agrupamos en una colección."
   ]
  },
  {
   "cell_type": "code",
   "execution_count": 11,
   "metadata": {
    "id": "BovTzOkGilEx"
   },
   "outputs": [],
   "source": [
    "def conversor_km_millas(distancia):\n",
    "    millas = 0.62 * distancia\n",
    "    meters = 1000 * distancia\n",
    "    return [round(millas,1), millas, meters]"
   ]
  },
  {
   "cell_type": "code",
   "execution_count": 15,
   "metadata": {},
   "outputs": [
    {
     "name": "stdout",
     "output_type": "stream",
     "text": [
      "(1377.0, 1377.02, 2221000)\n",
      "<class 'tuple'>\n"
     ]
    }
   ],
   "source": [
    "salida = conversor_km_millas(2221)\n",
    "print(salida)\n",
    "print(type(salida))"
   ]
  },
  {
   "cell_type": "code",
   "execution_count": 19,
   "metadata": {},
   "outputs": [],
   "source": [
    "def recibe_mix(tupla, lista, diccionario):\n",
    "    print(\"tupla contiene:\")\n",
    "    print(tupla)\n",
    "    print(\"y es de tipo:\", type(tupla))\n",
    "    print(\"lista contiene:\")\n",
    "    print(lista)\n",
    "    print(\"y es de tipo:\", type(lista))\n",
    "    print(\"diccionario contiene:\")\n",
    "    print(diccionario)\n",
    "    print(\"y es de tipo:\", type(diccionario))\n",
    "    return [type(tupla), type(lista), type(diccionario)]"
   ]
  },
  {
   "cell_type": "code",
   "execution_count": 21,
   "metadata": {},
   "outputs": [
    {
     "name": "stdout",
     "output_type": "stream",
     "text": [
      "tupla contiene:\n",
      "(12, 34, 23)\n",
      "y es de tipo: <class 'tuple'>\n",
      "lista contiene:\n",
      "['esto', 'es', 'una', 'lista']\n",
      "y es de tipo: <class 'list'>\n",
      "diccionario contiene:\n",
      "{'key1': 'valor'}\n",
      "y es de tipo: <class 'dict'>\n"
     ]
    },
    {
     "data": {
      "text/plain": [
       "[tuple, list, dict]"
      ]
     },
     "execution_count": 21,
     "metadata": {},
     "output_type": "execute_result"
    }
   ],
   "source": [
    "recibe_mix((12,34,23),[\"esto\", \"es\",\"una\",\"lista\"], {\"key1\":\"valor\"})"
   ]
  },
  {
   "cell_type": "markdown",
   "metadata": {
    "id": "Y5SvuM55ilEx"
   },
   "source": [
    "### Tipos de datos de los argumentos\n",
    "[al indice](#Contenidos)  \n",
    "\n",
    "Lo que quieras: numeros, texto, listas, tuplas, diccionarios, objetos de clases que hayas definido..."
   ]
  },
  {
   "cell_type": "code",
   "execution_count": 22,
   "metadata": {
    "id": "y7b7lTt1ilEx"
   },
   "outputs": [
    {
     "name": "stdout",
     "output_type": "stream",
     "text": [
      "tupla contiene:\n",
      "1\n",
      "y es de tipo: <class 'int'>\n",
      "lista contiene:\n",
      "Hola\n",
      "y es de tipo: <class 'str'>\n",
      "diccionario contiene:\n",
      "True\n",
      "y es de tipo: <class 'bool'>\n"
     ]
    },
    {
     "data": {
      "text/plain": [
       "[int, str, bool]"
      ]
     },
     "execution_count": 22,
     "metadata": {},
     "output_type": "execute_result"
    }
   ],
   "source": [
    "recibe_mix(1,\"Hola\",True)"
   ]
  },
  {
   "cell_type": "markdown",
   "metadata": {
    "id": "4g8-bXfhilEy"
   },
   "source": [
    "### Errores típicos con funciones\n",
    "[al indice](#Contenidos)  \n",
    "\n"
   ]
  },
  {
   "cell_type": "markdown",
   "metadata": {
    "id": "fho2-2upilEy"
   },
   "source": [
    "<table align=\"left\">\n",
    " <tr>\n",
    "     <td style=\"text-align:left\">\n",
    "         <h3>ERRORES variables de la función</h3>\n",
    "         \n",
    " </td></tr>\n",
    "</table>"
   ]
  },
  {
   "cell_type": "code",
   "execution_count": 27,
   "metadata": {
    "id": "WVfuu8gdilEy"
   },
   "outputs": [
    {
     "name": "stdout",
     "output_type": "stream",
     "text": [
      "124.0\n"
     ]
    },
    {
     "ename": "NameError",
     "evalue": "name 'millas' is not defined",
     "output_type": "error",
     "traceback": [
      "\u001b[31m---------------------------------------------------------------------------\u001b[39m",
      "\u001b[31mNameError\u001b[39m                                 Traceback (most recent call last)",
      "\u001b[36mCell\u001b[39m\u001b[36m \u001b[39m\u001b[32mIn[27]\u001b[39m\u001b[32m, line 9\u001b[39m\n\u001b[32m      6\u001b[39m     \u001b[38;5;28;01mreturn\u001b[39;00m \u001b[38;5;28mround\u001b[39m(millas,\u001b[32m2\u001b[39m)\n\u001b[32m      8\u001b[39m \u001b[38;5;28mprint\u001b[39m(km2millas(\u001b[32m200\u001b[39m))\n\u001b[32m----> \u001b[39m\u001b[32m9\u001b[39m \u001b[38;5;28mprint\u001b[39m(\u001b[43mmillas\u001b[49m)\n",
      "\u001b[31mNameError\u001b[39m: name 'millas' is not defined"
     ]
    }
   ],
   "source": [
    "# Todo lo que declaremos dentro de la función se crea UNICAMENTE para la función\n",
    "# Fuera de la misma, esas variables no existen\n",
    "\n",
    "def km2millas(dist):\n",
    "    millas = dist * 0.62\n",
    "    return round(millas,2)\n",
    "\n",
    "print(km2millas(200))\n",
    "print(millas)"
   ]
  },
  {
   "cell_type": "markdown",
   "metadata": {
    "id": "0enZmlf1ilEy"
   },
   "source": [
    "Se crea un namespace interno dentro de las funciones, es decir, que lo que declaremos dentro, se queda dentro. No lo podremos usar fuera. Además, ten en cuenta que todo lo que introduzcamos dentro de flujos de control (`if/else`, bucles...), nos vale para el resto de la función"
   ]
  },
  {
   "cell_type": "code",
   "execution_count": null,
   "metadata": {
    "id": "KhVP8y7silEy"
   },
   "outputs": [],
   "source": [
    "def numero_ifs(numero):\n",
    "    if numero == 1:\n",
    "        out = 1\n",
    "    return out\n",
    "\n",
    "numero_ifs(1)"
   ]
  },
  {
   "cell_type": "code",
   "execution_count": 29,
   "metadata": {
    "id": "JvjtYv2jilEy"
   },
   "outputs": [
    {
     "ename": "NameError",
     "evalue": "name 'out' is not defined",
     "output_type": "error",
     "traceback": [
      "\u001b[31m---------------------------------------------------------------------------\u001b[39m",
      "\u001b[31mNameError\u001b[39m                                 Traceback (most recent call last)",
      "\u001b[36mCell\u001b[39m\u001b[36m \u001b[39m\u001b[32mIn[29]\u001b[39m\u001b[32m, line 1\u001b[39m\n\u001b[32m----> \u001b[39m\u001b[32m1\u001b[39m \u001b[43mout\u001b[49m(\u001b[32m2\u001b[39m)\n",
      "\u001b[31mNameError\u001b[39m: name 'out' is not defined"
     ]
    }
   ],
   "source": [
    "out(2)"
   ]
  },
  {
   "cell_type": "code",
   "execution_count": 30,
   "metadata": {
    "id": "VeKtqt1ailEy"
   },
   "outputs": [
    {
     "ename": "TypeError",
     "evalue": "km2millas() missing 1 required positional argument: 'dist'",
     "output_type": "error",
     "traceback": [
      "\u001b[31m---------------------------------------------------------------------------\u001b[39m",
      "\u001b[31mTypeError\u001b[39m                                 Traceback (most recent call last)",
      "\u001b[36mCell\u001b[39m\u001b[36m \u001b[39m\u001b[32mIn[30]\u001b[39m\u001b[32m, line 2\u001b[39m\n\u001b[32m      1\u001b[39m \u001b[38;5;66;03m# Si no introducimos argumentos en una función que SI tiene argumentos, salta un error de este estilo\u001b[39;00m\n\u001b[32m----> \u001b[39m\u001b[32m2\u001b[39m millas = \u001b[43mkm2millas\u001b[49m\u001b[43m(\u001b[49m\u001b[43m)\u001b[49m\n",
      "\u001b[31mTypeError\u001b[39m: km2millas() missing 1 required positional argument: 'dist'"
     ]
    }
   ],
   "source": [
    "# Si no introducimos argumentos en una función que SI tiene argumentos, salta un error de este estilo\n",
    "millas = km2millas()"
   ]
  },
  {
   "cell_type": "markdown",
   "metadata": {
    "id": "0BUKE9b1ilEy"
   },
   "source": [
    "Cuidado también con la sintaxis de línea. Después de dos puntos `:`, viene todo el bloque de código tabulado, de la función"
   ]
  },
  {
   "cell_type": "code",
   "execution_count": 32,
   "metadata": {
    "id": "0HBuQ8aMilEy"
   },
   "outputs": [
    {
     "ename": "IndentationError",
     "evalue": "expected an indented block after function definition on line 1 (1932202375.py, line 2)",
     "output_type": "error",
     "traceback": [
      "  \u001b[36mCell\u001b[39m\u001b[36m \u001b[39m\u001b[32mIn[32]\u001b[39m\u001b[32m, line 2\u001b[39m\n\u001b[31m    \u001b[39m\u001b[31mprint(otro_argumento)\u001b[39m\n    ^\n\u001b[31mIndentationError\u001b[39m\u001b[31m:\u001b[39m expected an indented block after function definition on line 1\n"
     ]
    }
   ],
   "source": [
    "def mala_funcion(otro_argumento):\n",
    "print(otro_argumento)\n",
    "return[otro_argumento]"
   ]
  },
  {
   "cell_type": "code",
   "execution_count": null,
   "metadata": {
    "id": "KztSgd8MilEy"
   },
   "outputs": [],
   "source": []
  }
 ],
 "metadata": {
  "colab": {
   "provenance": []
  },
  "kernelspec": {
   "display_name": "Python 3 (ipykernel)",
   "language": "python",
   "name": "python3"
  },
  "language_info": {
   "codemirror_mode": {
    "name": "ipython",
    "version": 3
   },
   "file_extension": ".py",
   "mimetype": "text/x-python",
   "name": "python",
   "nbconvert_exporter": "python",
   "pygments_lexer": "ipython3",
   "version": "3.11.7"
  }
 },
 "nbformat": 4,
 "nbformat_minor": 4
}
